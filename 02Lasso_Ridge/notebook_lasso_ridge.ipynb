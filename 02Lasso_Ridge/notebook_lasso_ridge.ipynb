{
  "nbformat": 4,
  "nbformat_minor": 0,
  "metadata": {
    "colab": {
      "name": "notebook_lasso_ridge.ipynb",
      "provenance": [],
      "collapsed_sections": []
    },
    "kernelspec": {
      "name": "python3",
      "display_name": "Python 3"
    }
  },
  "cells": [
    {
      "cell_type": "markdown",
      "metadata": {
        "id": "D9h_gidMo5-9",
        "colab_type": "text"
      },
      "source": [
        "# Regressão Ridge e Lasso - Grupo DS Avançado\n",
        "\n",
        "#### Autor: Rafael Barbosa - [LinkedIn](https://www.linkedin.com/in/rafael-barbosa0/) - [Github](https://github.com/barbosarafael)\n",
        "\n",
        "#### **Nota**: Esse tutorial/post/notebook/o_que_você_quiser_chamar possui um viés acadêmico (juro que estou tentando perder ele), então tem coisas que provavelmente passarei despercebido em relação aos conceitos. \n",
        "\n",
        "#### **Dica**: Se não entendeu algo, mande mensagem ou dê a famosa googlada.\n",
        "\n",
        "<p align=\"center\">\n",
        "  <img alt=\"decision_tree\" src=\"https://64.media.tumblr.com/ad72767638ca6822ddb7c2b330c5a03b/tumblr_pv76dcCDgG1xoyw8po1_1280.png\" alt=\"drawing\" width=\"500\" height=\"400\"/>\n",
        "  <br>\n",
        "    <b> Eita </b> \n",
        "</p>"
      ]
    },
    {
      "cell_type": "markdown",
      "metadata": {
        "id": "ABLHxyruo5xu",
        "colab_type": "text"
      },
      "source": [
        "## 1. Introdução\n",
        "\n",
        "- [Anteriormente](https://nbviewer.jupyter.org/github/barbosarafael/Grupo_DS_Avancado/blob/master/01Reg_Linear/Not_RegLinear.ipynb) falamos sobre a Regressão Linear e suas particularidades, *i.e* pressupostos;\n",
        "\n",
        "- O presente notebook explora um pouco mais sobre as extensões conhecidas dos modelos de regressão, nesse caso, Lasso (conhecida como L1) e Ridge (conhecida também como L2);\n",
        "\n",
        "- Elas diferem em pouca coisa entre si. Mas, essa pouca coisa, nos dá uma grande diferença em questões teóricas e práticas;\n",
        "\n",
        "- E no final, teremos um exemplo para a aplicação de ambas as extensões da regressão."
      ]
    },
    {
      "cell_type": "markdown",
      "metadata": {
        "id": "2bhUBVD81QE-",
        "colab_type": "text"
      },
      "source": [
        "## 2. Método de ajuste da Regressão\n",
        "\n",
        "- Basicamente existem dois métodos, o primeiro (eu diria) estatístico que é o OLS e o segundo de machine learning é o Gradiente Descendente;\n",
        "\n",
        "- Vamos fazer um breve resumo sobre eles."
      ]
    },
    {
      "cell_type": "markdown",
      "metadata": {
        "id": "Bqplp05K3Gka",
        "colab_type": "text"
      },
      "source": [
        "### 2.1. Ordinary least squares - Método dos mínimos quadrados"
      ]
    },
    {
      "cell_type": "markdown",
      "metadata": {
        "id": "NBn7byCL3Uph",
        "colab_type": "text"
      },
      "source": [
        "### 2.2. Gradiente descendente\n"
      ]
    },
    {
      "cell_type": "markdown",
      "metadata": {
        "id": "ZY90YdElo5kr",
        "colab_type": "text"
      },
      "source": [
        "## 3. Bias e variância \n",
        "\n",
        "- Confesso que até o presente momento eu sempre tentava entender qual diferença entre essas duas palavrinhas-chave, lendo e relendo não conseguia entender muito bem. E esse *tutorial, post, notebook ou o que_você_quiser_chamar* me obriga a estudar mais e colocar em prática o que eu aprendi;\n",
        "\n",
        "- "
      ]
    },
    {
      "cell_type": "markdown",
      "metadata": {
        "id": "4WbhRH8uo5az",
        "colab_type": "text"
      },
      "source": [
        "## 4. Regularização"
      ]
    },
    {
      "cell_type": "markdown",
      "metadata": {
        "id": "askidkk-o5Ft",
        "colab_type": "text"
      },
      "source": [
        "## 5. Validação Cruzada"
      ]
    },
    {
      "cell_type": "markdown",
      "metadata": {
        "id": "gcCnlVUyo42B",
        "colab_type": "text"
      },
      "source": [
        "## 6. Regressão Lasso (L1)"
      ]
    },
    {
      "cell_type": "markdown",
      "metadata": {
        "id": "Z9993g-447Q_",
        "colab_type": "text"
      },
      "source": [
        "## 7. Regressão Ridge (L2)"
      ]
    },
    {
      "cell_type": "markdown",
      "metadata": {
        "id": "qUyx_Su147im",
        "colab_type": "text"
      },
      "source": [
        "## 8. Exemplo"
      ]
    },
    {
      "cell_type": "markdown",
      "metadata": {
        "id": "ntDL6v3Yo4YI",
        "colab_type": "text"
      },
      "source": [
        "## Referências\n",
        "\n",
        "1. https://towardsdatascience.com/ridge-and-lasso-regression-a-complete-guide-with-python-scikit-learn-e20e34bcbf0b\n",
        "2. https://www.analyticsvidhya.com/blog/2016/01/ridge-lasso-regression-python-complete-tutorial/\n",
        "3. https://medium.com/turing-talks/turing-talks-20-regress%C3%A3o-de-ridge-e-lasso-a0fc467b5629\n",
        "4. http://prorum.com/?qa=4379/quais-diferencas-modelos-regularizacao-regressoes-lineares\n",
        "5. https://jreduardo.github.io/ce064-ml/work3.html\n",
        "6. https://www.datacamp.com/community/tutorials/tutorial-ridge-lasso-elastic-net\n",
        "7. https://towardsdatascience.com/ridge-and-lasso-regression-a-complete-guide-with-python-scikit-learn-e20e34bcbf0b\n",
        "8. https://www.analyticsvidhya.com/blog/2017/06/a-comprehensive-guide-for-linear-ridge-and-lasso-regression/\n",
        "9. https://mineracaodedados.wordpress.com/2015/06/20/qual-a-diferenca-entre-lasso-e-ridge-regression/\n",
        "10. https://www.geeksforgeeks.org/lasso-vs-ridge-vs-elastic-net-ml/"
      ]
    },
    {
      "cell_type": "markdown",
      "metadata": {
        "id": "M58vQGqDoz1W",
        "colab_type": "text"
      },
      "source": [
        "# Sumário\n",
        "\n",
        "1. Introdução\n",
        "2. Método de estimação (OLS ou Gradiente Descendente)\n",
        "3. Bias e Variância\n",
        "4. Regularização\n",
        "6. Validação Cruzada\n",
        "7. Lasso (L1)\n",
        "8. Ridge (L2)\n",
        "9. Exemplo"
      ]
    }
  ]
}