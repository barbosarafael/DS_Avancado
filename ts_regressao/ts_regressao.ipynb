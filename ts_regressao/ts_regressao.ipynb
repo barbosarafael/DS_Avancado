{
 "cells": [
  {
   "cell_type": "markdown",
   "metadata": {},
   "source": [
    "# Séries temporais com Regressão Linear\n",
    "\n",
    "**Autor**: Maykon Schots\n",
    "\n",
    "**Participação especial**: Rafael Barbosa"
   ]
  },
  {
   "cell_type": "code",
   "execution_count": 70,
   "metadata": {},
   "outputs": [],
   "source": [
    "import pandas as pd\n",
    "import numpy as np\n",
    "import seaborn as sns\n",
    "import matplotlib.pyplot as plt\n",
    "import holidays\n",
    "\n",
    "\n",
    "#--- Configurações adicionais\n",
    "\n",
    "plt.style.use(\"seaborn-muted\")\n",
    "pd.set_option('display.max_columns', None)"
   ]
  },
  {
   "cell_type": "code",
   "execution_count": 71,
   "metadata": {},
   "outputs": [
    {
     "data": {
      "text/html": [
       "<div>\n",
       "<style scoped>\n",
       "    .dataframe tbody tr th:only-of-type {\n",
       "        vertical-align: middle;\n",
       "    }\n",
       "\n",
       "    .dataframe tbody tr th {\n",
       "        vertical-align: top;\n",
       "    }\n",
       "\n",
       "    .dataframe thead th {\n",
       "        text-align: right;\n",
       "    }\n",
       "</style>\n",
       "<table border=\"1\" class=\"dataframe\">\n",
       "  <thead>\n",
       "    <tr style=\"text-align: right;\">\n",
       "      <th></th>\n",
       "      <th>Lead Created At</th>\n",
       "      <th>Lead Id</th>\n",
       "      <th>Purchase Source</th>\n",
       "      <th>JID</th>\n",
       "      <th>tempo_jornada</th>\n",
       "      <th>flag_jornada</th>\n",
       "      <th>flag_venda</th>\n",
       "      <th>Canal</th>\n",
       "    </tr>\n",
       "  </thead>\n",
       "  <tbody>\n",
       "    <tr>\n",
       "      <th>0</th>\n",
       "      <td>2020-01-06 22:39:00</td>\n",
       "      <td>MSS-00003108-bf9d-4679-8780-36931ab4ae49-2020</td>\n",
       "      <td>fb-geral-lookalike-dco</td>\n",
       "      <td>1</td>\n",
       "      <td>1.0</td>\n",
       "      <td>Primeiro Contato</td>\n",
       "      <td>0.0</td>\n",
       "      <td>FB</td>\n",
       "    </tr>\n",
       "    <tr>\n",
       "      <th>1</th>\n",
       "      <td>2020-02-21 19:18:00</td>\n",
       "      <td>MSS-00003108-bf9d-4679-8780-36931ab4ae49-2020</td>\n",
       "      <td>sms-pre-carnaval-abandono</td>\n",
       "      <td>2</td>\n",
       "      <td>47.0</td>\n",
       "      <td>Ultimo Contato</td>\n",
       "      <td>0.0</td>\n",
       "      <td>SMS</td>\n",
       "    </tr>\n",
       "    <tr>\n",
       "      <th>2</th>\n",
       "      <td>2020-05-13 14:15:00</td>\n",
       "      <td>MSS-000031d0-5499-4e58-a88d-9afbcbb8ee9a-2019</td>\n",
       "      <td>yt-rmkt-videos-videovendas3</td>\n",
       "      <td>3</td>\n",
       "      <td>143.0</td>\n",
       "      <td>Ultimo Contato</td>\n",
       "      <td>0.0</td>\n",
       "      <td>YT</td>\n",
       "    </tr>\n",
       "    <tr>\n",
       "      <th>3</th>\n",
       "      <td>2020-07-23 22:28:00</td>\n",
       "      <td>MSS-00003bb2-b409-47b3-862f-e6c82b311d0c-2020</td>\n",
       "      <td>insta-bio</td>\n",
       "      <td>1</td>\n",
       "      <td>1.0</td>\n",
       "      <td>Primeiro Contato</td>\n",
       "      <td>0.0</td>\n",
       "      <td>FB</td>\n",
       "    </tr>\n",
       "    <tr>\n",
       "      <th>4</th>\n",
       "      <td>2020-05-12 22:51:00</td>\n",
       "      <td>MSS-0000610b-1170-47f5-990b-239d6eaef81b-2020</td>\n",
       "      <td>fb-rmkt-video-dco</td>\n",
       "      <td>1</td>\n",
       "      <td>1.0</td>\n",
       "      <td>Primeiro Contato</td>\n",
       "      <td>0.0</td>\n",
       "      <td>FB</td>\n",
       "    </tr>\n",
       "  </tbody>\n",
       "</table>\n",
       "</div>"
      ],
      "text/plain": [
       "      Lead Created At                                        Lead Id  \\\n",
       "0 2020-01-06 22:39:00  MSS-00003108-bf9d-4679-8780-36931ab4ae49-2020   \n",
       "1 2020-02-21 19:18:00  MSS-00003108-bf9d-4679-8780-36931ab4ae49-2020   \n",
       "2 2020-05-13 14:15:00  MSS-000031d0-5499-4e58-a88d-9afbcbb8ee9a-2019   \n",
       "3 2020-07-23 22:28:00  MSS-00003bb2-b409-47b3-862f-e6c82b311d0c-2020   \n",
       "4 2020-05-12 22:51:00  MSS-0000610b-1170-47f5-990b-239d6eaef81b-2020   \n",
       "\n",
       "               Purchase Source  JID  tempo_jornada      flag_jornada  \\\n",
       "0       fb-geral-lookalike-dco    1            1.0  Primeiro Contato   \n",
       "1    sms-pre-carnaval-abandono    2           47.0    Ultimo Contato   \n",
       "2  yt-rmkt-videos-videovendas3    3          143.0    Ultimo Contato   \n",
       "3                    insta-bio    1            1.0  Primeiro Contato   \n",
       "4            fb-rmkt-video-dco    1            1.0  Primeiro Contato   \n",
       "\n",
       "   flag_venda Canal  \n",
       "0         0.0    FB  \n",
       "1         0.0   SMS  \n",
       "2         0.0    YT  \n",
       "3         0.0    FB  \n",
       "4         0.0    FB  "
      ]
     },
     "execution_count": 71,
     "metadata": {},
     "output_type": "execute_result"
    }
   ],
   "source": [
    "dados = pd.read_csv(\"data/output-dados-case.csv\")\n",
    "dados[\"Lead Created At\"] = pd.to_datetime(dados[\"Lead Created At\"], format = \"%Y-%m-%d\")\n",
    "\n",
    "dados.head()"
   ]
  },
  {
   "cell_type": "code",
   "execution_count": 72,
   "metadata": {},
   "outputs": [
    {
     "data": {
      "text/plain": [
       "Lead Created At\n",
       "2020-01-01    47\n",
       "2020-01-02    70\n",
       "2020-01-03    48\n",
       "2020-01-04    81\n",
       "2020-01-05    73\n",
       "Freq: D, Name: indicador_leads, dtype: int64"
      ]
     },
     "execution_count": 72,
     "metadata": {},
     "output_type": "execute_result"
    }
   ],
   "source": [
    "dados[\"indicador_leads\"] = 1\n",
    "\n",
    "#--- Soma de vendas\n",
    "\n",
    "vol_diarios_compras = dados[dados[\"flag_venda\"] == 1].resample(\"D\", on = \"Lead Created At\")[\"indicador_leads\"].sum()\n",
    "\n",
    "vol_diarios_compras.head()"
   ]
  },
  {
   "cell_type": "markdown",
   "metadata": {},
   "source": [
    "## 4. Modelagem - Regressão Linear\n",
    "\n",
    "\n",
    "**Objetivo**: Previsão de vendas diária para os próximos 7 dias"
   ]
  },
  {
   "cell_type": "markdown",
   "metadata": {},
   "source": [
    "### 4.1. Visualização da série temporal"
   ]
  },
  {
   "cell_type": "code",
   "execution_count": 73,
   "metadata": {},
   "outputs": [
    {
     "data": {
      "text/html": [
       "<div>\n",
       "<style scoped>\n",
       "    .dataframe tbody tr th:only-of-type {\n",
       "        vertical-align: middle;\n",
       "    }\n",
       "\n",
       "    .dataframe tbody tr th {\n",
       "        vertical-align: top;\n",
       "    }\n",
       "\n",
       "    .dataframe thead th {\n",
       "        text-align: right;\n",
       "    }\n",
       "</style>\n",
       "<table border=\"1\" class=\"dataframe\">\n",
       "  <thead>\n",
       "    <tr style=\"text-align: right;\">\n",
       "      <th></th>\n",
       "      <th>Lead Created At</th>\n",
       "      <th>indicador_leads</th>\n",
       "      <th>Legenda</th>\n",
       "    </tr>\n",
       "  </thead>\n",
       "  <tbody>\n",
       "    <tr>\n",
       "      <th>0</th>\n",
       "      <td>2020-01-01</td>\n",
       "      <td>47</td>\n",
       "      <td>Treino</td>\n",
       "    </tr>\n",
       "    <tr>\n",
       "      <th>1</th>\n",
       "      <td>2020-01-02</td>\n",
       "      <td>70</td>\n",
       "      <td>Treino</td>\n",
       "    </tr>\n",
       "    <tr>\n",
       "      <th>2</th>\n",
       "      <td>2020-01-03</td>\n",
       "      <td>48</td>\n",
       "      <td>Treino</td>\n",
       "    </tr>\n",
       "    <tr>\n",
       "      <th>3</th>\n",
       "      <td>2020-01-04</td>\n",
       "      <td>81</td>\n",
       "      <td>Treino</td>\n",
       "    </tr>\n",
       "    <tr>\n",
       "      <th>4</th>\n",
       "      <td>2020-01-05</td>\n",
       "      <td>73</td>\n",
       "      <td>Treino</td>\n",
       "    </tr>\n",
       "  </tbody>\n",
       "</table>\n",
       "</div>"
      ],
      "text/plain": [
       "  Lead Created At  indicador_leads Legenda\n",
       "0      2020-01-01               47  Treino\n",
       "1      2020-01-02               70  Treino\n",
       "2      2020-01-03               48  Treino\n",
       "3      2020-01-04               81  Treino\n",
       "4      2020-01-05               73  Treino"
      ]
     },
     "execution_count": 73,
     "metadata": {},
     "output_type": "execute_result"
    }
   ],
   "source": [
    "df_vol_diarios_compras = vol_diarios_compras.reset_index(drop = 0)\n",
    "df_vol_diarios_compras[\"Legenda\"] = df_vol_diarios_compras[\"Lead Created At\"].apply(lambda x: \"Treino\" if str(x) < \"2020-07-01\" else \"Teste\")\n",
    "\n",
    "df_vol_diarios_compras.head()"
   ]
  },
  {
   "cell_type": "code",
   "execution_count": 74,
   "metadata": {},
   "outputs": [
    {
     "data": {
      "image/png": "[encoded data removed]",
      "text/plain": [
       "<Figure size 720x432 with 1 Axes>"
      ]
     },
     "metadata": {
      "needs_background": "light"
     },
     "output_type": "display_data"
    }
   ],
   "source": [
    "_ = plt.figure(figsize = [10, 6])\n",
    "_ = sns.lineplot(x = \"Lead Created At\", y = \"indicador_leads\", hue = \"Legenda\", data = df_vol_diarios_compras, color = \"black\")\n",
    "_ = plt.xlabel(\"Data\", fontsize = 14, color = \"black\")\n",
    "_ = plt.ylabel(\"Quantidade de vendas\", fontsize = 14, color = \"black\")\n",
    "_ = plt.tick_params(axis = \"x\", labelsize = 12, labelcolor = \"black\")\n",
    "_ = plt.tick_params(axis = \"y\", labelsize = 12, labelcolor = \"black\")"
   ]
  },
  {
   "cell_type": "markdown",
   "metadata": {},
   "source": [
    "### 4.2. Variáveis para a modelagem"
   ]
  },
  {
   "cell_type": "markdown",
   "metadata": {},
   "source": [
    "#### 4.2.1. Variável resposta: Quantidade de compras por mês "
   ]
  },
  {
   "cell_type": "code",
   "execution_count": 75,
   "metadata": {},
   "outputs": [
    {
     "data": {
      "text/html": [
       "<div>\n",
       "<style scoped>\n",
       "    .dataframe tbody tr th:only-of-type {\n",
       "        vertical-align: middle;\n",
       "    }\n",
       "\n",
       "    .dataframe tbody tr th {\n",
       "        vertical-align: top;\n",
       "    }\n",
       "\n",
       "    .dataframe thead th {\n",
       "        text-align: right;\n",
       "    }\n",
       "</style>\n",
       "<table border=\"1\" class=\"dataframe\">\n",
       "  <thead>\n",
       "    <tr style=\"text-align: right;\">\n",
       "      <th></th>\n",
       "      <th>Lead Created At</th>\n",
       "      <th>indicador_leads</th>\n",
       "    </tr>\n",
       "  </thead>\n",
       "  <tbody>\n",
       "    <tr>\n",
       "      <th>0</th>\n",
       "      <td>2020-01-01</td>\n",
       "      <td>47.0</td>\n",
       "    </tr>\n",
       "    <tr>\n",
       "      <th>1</th>\n",
       "      <td>2020-01-02</td>\n",
       "      <td>70.0</td>\n",
       "    </tr>\n",
       "    <tr>\n",
       "      <th>2</th>\n",
       "      <td>2020-01-03</td>\n",
       "      <td>48.0</td>\n",
       "    </tr>\n",
       "    <tr>\n",
       "      <th>3</th>\n",
       "      <td>2020-01-04</td>\n",
       "      <td>81.0</td>\n",
       "    </tr>\n",
       "    <tr>\n",
       "      <th>4</th>\n",
       "      <td>2020-01-05</td>\n",
       "      <td>73.0</td>\n",
       "    </tr>\n",
       "  </tbody>\n",
       "</table>\n",
       "</div>"
      ],
      "text/plain": [
       "  Lead Created At  indicador_leads\n",
       "0      2020-01-01             47.0\n",
       "1      2020-01-02             70.0\n",
       "2      2020-01-03             48.0\n",
       "3      2020-01-04             81.0\n",
       "4      2020-01-05             73.0"
      ]
     },
     "execution_count": 75,
     "metadata": {},
     "output_type": "execute_result"
    }
   ],
   "source": [
    "dados1 = pd.DataFrame(vol_diarios_compras).reset_index()\n",
    "\n",
    "dados1[\"indicador_leads\"] = dados1[\"indicador_leads\"]*1.0\n",
    "\n",
    "dados1.head()"
   ]
  },
  {
   "cell_type": "markdown",
   "metadata": {},
   "source": [
    "#### 4.2.2. Variável explicativa: Volume diário médio da jornada"
   ]
  },
  {
   "cell_type": "code",
   "execution_count": 76,
   "metadata": {},
   "outputs": [
    {
     "data": {
      "text/html": [
       "<div>\n",
       "<style scoped>\n",
       "    .dataframe tbody tr th:only-of-type {\n",
       "        vertical-align: middle;\n",
       "    }\n",
       "\n",
       "    .dataframe tbody tr th {\n",
       "        vertical-align: top;\n",
       "    }\n",
       "\n",
       "    .dataframe thead th {\n",
       "        text-align: right;\n",
       "    }\n",
       "</style>\n",
       "<table border=\"1\" class=\"dataframe\">\n",
       "  <thead>\n",
       "    <tr style=\"text-align: right;\">\n",
       "      <th></th>\n",
       "      <th>Lead Created At</th>\n",
       "      <th>tempo_jornada</th>\n",
       "    </tr>\n",
       "  </thead>\n",
       "  <tbody>\n",
       "    <tr>\n",
       "      <th>0</th>\n",
       "      <td>2020-01-01</td>\n",
       "      <td>29.451766</td>\n",
       "    </tr>\n",
       "    <tr>\n",
       "      <th>1</th>\n",
       "      <td>2020-01-02</td>\n",
       "      <td>27.240385</td>\n",
       "    </tr>\n",
       "    <tr>\n",
       "      <th>2</th>\n",
       "      <td>2020-01-03</td>\n",
       "      <td>33.897341</td>\n",
       "    </tr>\n",
       "    <tr>\n",
       "      <th>3</th>\n",
       "      <td>2020-01-04</td>\n",
       "      <td>27.859436</td>\n",
       "    </tr>\n",
       "    <tr>\n",
       "      <th>4</th>\n",
       "      <td>2020-01-05</td>\n",
       "      <td>35.575490</td>\n",
       "    </tr>\n",
       "  </tbody>\n",
       "</table>\n",
       "</div>"
      ],
      "text/plain": [
       "  Lead Created At  tempo_jornada\n",
       "0      2020-01-01      29.451766\n",
       "1      2020-01-02      27.240385\n",
       "2      2020-01-03      33.897341\n",
       "3      2020-01-04      27.859436\n",
       "4      2020-01-05      35.575490"
      ]
     },
     "execution_count": 76,
     "metadata": {},
     "output_type": "execute_result"
    }
   ],
   "source": [
    "dados2 = pd.DataFrame(dados.resample(\"D\", on = \"Lead Created At\")[\"tempo_jornada\"].mean()).reset_index()\n",
    "\n",
    "dados2.head()"
   ]
  },
  {
   "cell_type": "markdown",
   "metadata": {},
   "source": [
    "#### 4.2.3. Join entre as primeiras variáveis"
   ]
  },
  {
   "cell_type": "code",
   "execution_count": 77,
   "metadata": {},
   "outputs": [
    {
     "data": {
      "text/html": [
       "<div>\n",
       "<style scoped>\n",
       "    .dataframe tbody tr th:only-of-type {\n",
       "        vertical-align: middle;\n",
       "    }\n",
       "\n",
       "    .dataframe tbody tr th {\n",
       "        vertical-align: top;\n",
       "    }\n",
       "\n",
       "    .dataframe thead th {\n",
       "        text-align: right;\n",
       "    }\n",
       "</style>\n",
       "<table border=\"1\" class=\"dataframe\">\n",
       "  <thead>\n",
       "    <tr style=\"text-align: right;\">\n",
       "      <th></th>\n",
       "      <th>Lead Created At</th>\n",
       "      <th>indicador_leads</th>\n",
       "      <th>tempo_jornada</th>\n",
       "    </tr>\n",
       "  </thead>\n",
       "  <tbody>\n",
       "    <tr>\n",
       "      <th>0</th>\n",
       "      <td>2020-01-01</td>\n",
       "      <td>47.0</td>\n",
       "      <td>29.451766</td>\n",
       "    </tr>\n",
       "    <tr>\n",
       "      <th>1</th>\n",
       "      <td>2020-01-02</td>\n",
       "      <td>70.0</td>\n",
       "      <td>27.240385</td>\n",
       "    </tr>\n",
       "    <tr>\n",
       "      <th>2</th>\n",
       "      <td>2020-01-03</td>\n",
       "      <td>48.0</td>\n",
       "      <td>33.897341</td>\n",
       "    </tr>\n",
       "    <tr>\n",
       "      <th>3</th>\n",
       "      <td>2020-01-04</td>\n",
       "      <td>81.0</td>\n",
       "      <td>27.859436</td>\n",
       "    </tr>\n",
       "    <tr>\n",
       "      <th>4</th>\n",
       "      <td>2020-01-05</td>\n",
       "      <td>73.0</td>\n",
       "      <td>35.575490</td>\n",
       "    </tr>\n",
       "  </tbody>\n",
       "</table>\n",
       "</div>"
      ],
      "text/plain": [
       "  Lead Created At  indicador_leads  tempo_jornada\n",
       "0      2020-01-01             47.0      29.451766\n",
       "1      2020-01-02             70.0      27.240385\n",
       "2      2020-01-03             48.0      33.897341\n",
       "3      2020-01-04             81.0      27.859436\n",
       "4      2020-01-05             73.0      35.575490"
      ]
     },
     "execution_count": 77,
     "metadata": {},
     "output_type": "execute_result"
    }
   ],
   "source": [
    "of_dados = pd.merge(dados1, dados2, on = [\"Lead Created At\"])\n",
    "\n",
    "of_dados.head()"
   ]
  },
  {
   "cell_type": "markdown",
   "metadata": {},
   "source": [
    "#### 4.2.4. Variáveis explicativa: É feriado?"
   ]
  },
  {
   "cell_type": "code",
   "execution_count": 78,
   "metadata": {},
   "outputs": [
    {
     "data": {
      "text/plain": [
       "'A primeira informação disponível é datada em 2020-01-01 00:00:00 e a última é de 2020-07-29 00:00:00'"
      ]
     },
     "execution_count": 78,
     "metadata": {},
     "output_type": "execute_result"
    }
   ],
   "source": [
    "first_date = of_dados[\"Lead Created At\"].min()\n",
    "last_date = of_dados[\"Lead Created At\"].max()\n",
    "\n",
    "f\"A primeira informação disponível é datada em {first_date} e a última é de {last_date}\""
   ]
  },
  {
   "cell_type": "code",
   "execution_count": 79,
   "metadata": {},
   "outputs": [
    {
     "data": {
      "text/html": [
       "<div>\n",
       "<style scoped>\n",
       "    .dataframe tbody tr th:only-of-type {\n",
       "        vertical-align: middle;\n",
       "    }\n",
       "\n",
       "    .dataframe tbody tr th {\n",
       "        vertical-align: top;\n",
       "    }\n",
       "\n",
       "    .dataframe thead th {\n",
       "        text-align: right;\n",
       "    }\n",
       "</style>\n",
       "<table border=\"1\" class=\"dataframe\">\n",
       "  <thead>\n",
       "    <tr style=\"text-align: right;\">\n",
       "      <th></th>\n",
       "      <th>Lead Created At</th>\n",
       "      <th>indicador_leads</th>\n",
       "      <th>tempo_jornada</th>\n",
       "      <th>feriado</th>\n",
       "    </tr>\n",
       "  </thead>\n",
       "  <tbody>\n",
       "    <tr>\n",
       "      <th>0</th>\n",
       "      <td>2020-01-01</td>\n",
       "      <td>47.0</td>\n",
       "      <td>29.451766</td>\n",
       "      <td>1</td>\n",
       "    </tr>\n",
       "    <tr>\n",
       "      <th>1</th>\n",
       "      <td>2020-01-02</td>\n",
       "      <td>70.0</td>\n",
       "      <td>27.240385</td>\n",
       "      <td>0</td>\n",
       "    </tr>\n",
       "    <tr>\n",
       "      <th>2</th>\n",
       "      <td>2020-01-03</td>\n",
       "      <td>48.0</td>\n",
       "      <td>33.897341</td>\n",
       "      <td>0</td>\n",
       "    </tr>\n",
       "    <tr>\n",
       "      <th>3</th>\n",
       "      <td>2020-01-04</td>\n",
       "      <td>81.0</td>\n",
       "      <td>27.859436</td>\n",
       "      <td>0</td>\n",
       "    </tr>\n",
       "    <tr>\n",
       "      <th>4</th>\n",
       "      <td>2020-01-05</td>\n",
       "      <td>73.0</td>\n",
       "      <td>35.575490</td>\n",
       "      <td>0</td>\n",
       "    </tr>\n",
       "  </tbody>\n",
       "</table>\n",
       "</div>"
      ],
      "text/plain": [
       "  Lead Created At  indicador_leads  tempo_jornada  feriado\n",
       "0      2020-01-01             47.0      29.451766        1\n",
       "1      2020-01-02             70.0      27.240385        0\n",
       "2      2020-01-03             48.0      33.897341        0\n",
       "3      2020-01-04             81.0      27.859436        0\n",
       "4      2020-01-05             73.0      35.575490        0"
      ]
     },
     "execution_count": 79,
     "metadata": {},
     "output_type": "execute_result"
    }
   ],
   "source": [
    "feriados = holidays.Brazil()\n",
    "\n",
    "feriados_br = pd.DataFrame({\"x\": feriados[\"2020-01-01\": \"2020-07-31\"]})\n",
    "feriados_br[\"x\"] = pd.to_datetime(feriados_br[\"x\"], format = \"%Y-%m-%d\")\n",
    "\n",
    "of_dados = pd.merge(of_dados, feriados_br, how=\"left\", indicator = True, left_on = \"Lead Created At\", right_on= \"x\")\n",
    "of_dados[\"feriado\"] = np.where(of_dados[\"_merge\"] == \"both\", 1, 0)\n",
    "of_dados = of_dados.drop([\"x\", \"_merge\"], axis = 1)\n",
    "\n",
    "\n",
    "of_dados.head()"
   ]
  },
  {
   "cell_type": "markdown",
   "metadata": {},
   "source": [
    "#### 4.2.6. Variáveis explicativa: Comuns de séries temporais"
   ]
  },
  {
   "cell_type": "code",
   "execution_count": 80,
   "metadata": {},
   "outputs": [
    {
     "data": {
      "text/html": [
       "<div>\n",
       "<style scoped>\n",
       "    .dataframe tbody tr th:only-of-type {\n",
       "        vertical-align: middle;\n",
       "    }\n",
       "\n",
       "    .dataframe tbody tr th {\n",
       "        vertical-align: top;\n",
       "    }\n",
       "\n",
       "    .dataframe thead th {\n",
       "        text-align: right;\n",
       "    }\n",
       "</style>\n",
       "<table border=\"1\" class=\"dataframe\">\n",
       "  <thead>\n",
       "    <tr style=\"text-align: right;\">\n",
       "      <th></th>\n",
       "      <th>Lead Created At</th>\n",
       "      <th>indicador_leads</th>\n",
       "      <th>tempo_jornada</th>\n",
       "      <th>feriado</th>\n",
       "      <th>day</th>\n",
       "      <th>weekday</th>\n",
       "    </tr>\n",
       "  </thead>\n",
       "  <tbody>\n",
       "    <tr>\n",
       "      <th>0</th>\n",
       "      <td>2020-01-01</td>\n",
       "      <td>47.0</td>\n",
       "      <td>29.451766</td>\n",
       "      <td>1</td>\n",
       "      <td>1</td>\n",
       "      <td>2</td>\n",
       "    </tr>\n",
       "    <tr>\n",
       "      <th>1</th>\n",
       "      <td>2020-01-02</td>\n",
       "      <td>70.0</td>\n",
       "      <td>27.240385</td>\n",
       "      <td>0</td>\n",
       "      <td>2</td>\n",
       "      <td>3</td>\n",
       "    </tr>\n",
       "    <tr>\n",
       "      <th>2</th>\n",
       "      <td>2020-01-03</td>\n",
       "      <td>48.0</td>\n",
       "      <td>33.897341</td>\n",
       "      <td>0</td>\n",
       "      <td>3</td>\n",
       "      <td>4</td>\n",
       "    </tr>\n",
       "    <tr>\n",
       "      <th>3</th>\n",
       "      <td>2020-01-04</td>\n",
       "      <td>81.0</td>\n",
       "      <td>27.859436</td>\n",
       "      <td>0</td>\n",
       "      <td>4</td>\n",
       "      <td>5</td>\n",
       "    </tr>\n",
       "    <tr>\n",
       "      <th>4</th>\n",
       "      <td>2020-01-05</td>\n",
       "      <td>73.0</td>\n",
       "      <td>35.575490</td>\n",
       "      <td>0</td>\n",
       "      <td>5</td>\n",
       "      <td>6</td>\n",
       "    </tr>\n",
       "  </tbody>\n",
       "</table>\n",
       "</div>"
      ],
      "text/plain": [
       "  Lead Created At  indicador_leads  tempo_jornada  feriado  day  weekday\n",
       "0      2020-01-01             47.0      29.451766        1    1        2\n",
       "1      2020-01-02             70.0      27.240385        0    2        3\n",
       "2      2020-01-03             48.0      33.897341        0    3        4\n",
       "3      2020-01-04             81.0      27.859436        0    4        5\n",
       "4      2020-01-05             73.0      35.575490        0    5        6"
      ]
     },
     "execution_count": 80,
     "metadata": {},
     "output_type": "execute_result"
    }
   ],
   "source": [
    "import datetime\n",
    "\n",
    "of_dados[\"day\"] = of_dados[\"Lead Created At\"].apply(lambda t: t.day)\n",
    "of_dados[\"weekday\"] = of_dados[\"Lead Created At\"].apply(lambda x: x.weekday())\n",
    "\n",
    "of_dados.head()"
   ]
  },
  {
   "cell_type": "markdown",
   "metadata": {},
   "source": [
    "#### 4.2.5. É fim de semana?"
   ]
  },
  {
   "cell_type": "code",
   "execution_count": 81,
   "metadata": {},
   "outputs": [
    {
     "data": {
      "text/html": [
       "<div>\n",
       "<style scoped>\n",
       "    .dataframe tbody tr th:only-of-type {\n",
       "        vertical-align: middle;\n",
       "    }\n",
       "\n",
       "    .dataframe tbody tr th {\n",
       "        vertical-align: top;\n",
       "    }\n",
       "\n",
       "    .dataframe thead th {\n",
       "        text-align: right;\n",
       "    }\n",
       "</style>\n",
       "<table border=\"1\" class=\"dataframe\">\n",
       "  <thead>\n",
       "    <tr style=\"text-align: right;\">\n",
       "      <th></th>\n",
       "      <th>Lead Created At</th>\n",
       "      <th>indicador_leads</th>\n",
       "      <th>tempo_jornada</th>\n",
       "      <th>feriado</th>\n",
       "      <th>day</th>\n",
       "      <th>weekday</th>\n",
       "      <th>is_weekend</th>\n",
       "    </tr>\n",
       "  </thead>\n",
       "  <tbody>\n",
       "    <tr>\n",
       "      <th>0</th>\n",
       "      <td>2020-01-01</td>\n",
       "      <td>47.0</td>\n",
       "      <td>29.451766</td>\n",
       "      <td>1</td>\n",
       "      <td>1</td>\n",
       "      <td>2</td>\n",
       "      <td>0</td>\n",
       "    </tr>\n",
       "    <tr>\n",
       "      <th>1</th>\n",
       "      <td>2020-01-02</td>\n",
       "      <td>70.0</td>\n",
       "      <td>27.240385</td>\n",
       "      <td>0</td>\n",
       "      <td>2</td>\n",
       "      <td>3</td>\n",
       "      <td>0</td>\n",
       "    </tr>\n",
       "    <tr>\n",
       "      <th>2</th>\n",
       "      <td>2020-01-03</td>\n",
       "      <td>48.0</td>\n",
       "      <td>33.897341</td>\n",
       "      <td>0</td>\n",
       "      <td>3</td>\n",
       "      <td>4</td>\n",
       "      <td>0</td>\n",
       "    </tr>\n",
       "    <tr>\n",
       "      <th>3</th>\n",
       "      <td>2020-01-04</td>\n",
       "      <td>81.0</td>\n",
       "      <td>27.859436</td>\n",
       "      <td>0</td>\n",
       "      <td>4</td>\n",
       "      <td>5</td>\n",
       "      <td>1</td>\n",
       "    </tr>\n",
       "    <tr>\n",
       "      <th>4</th>\n",
       "      <td>2020-01-05</td>\n",
       "      <td>73.0</td>\n",
       "      <td>35.575490</td>\n",
       "      <td>0</td>\n",
       "      <td>5</td>\n",
       "      <td>6</td>\n",
       "      <td>1</td>\n",
       "    </tr>\n",
       "  </tbody>\n",
       "</table>\n",
       "</div>"
      ],
      "text/plain": [
       "  Lead Created At  indicador_leads  tempo_jornada  feriado  day  weekday  \\\n",
       "0      2020-01-01             47.0      29.451766        1    1        2   \n",
       "1      2020-01-02             70.0      27.240385        0    2        3   \n",
       "2      2020-01-03             48.0      33.897341        0    3        4   \n",
       "3      2020-01-04             81.0      27.859436        0    4        5   \n",
       "4      2020-01-05             73.0      35.575490        0    5        6   \n",
       "\n",
       "   is_weekend  \n",
       "0           0  \n",
       "1           0  \n",
       "2           0  \n",
       "3           1  \n",
       "4           1  "
      ]
     },
     "execution_count": 81,
     "metadata": {},
     "output_type": "execute_result"
    }
   ],
   "source": [
    "of_dados[\"is_weekend\"] = of_dados[\"weekday\"].apply(lambda x: 1 if x in (5, 6) else 0)\n",
    "\n",
    "of_dados.head()"
   ]
  },
  {
   "cell_type": "markdown",
   "metadata": {},
   "source": [
    "#### 4.2.7. Variáveis explicativa: Lags"
   ]
  },
  {
   "cell_type": "code",
   "execution_count": 82,
   "metadata": {},
   "outputs": [
    {
     "data": {
      "text/html": [
       "<div>\n",
       "<style scoped>\n",
       "    .dataframe tbody tr th:only-of-type {\n",
       "        vertical-align: middle;\n",
       "    }\n",
       "\n",
       "    .dataframe tbody tr th {\n",
       "        vertical-align: top;\n",
       "    }\n",
       "\n",
       "    .dataframe thead th {\n",
       "        text-align: right;\n",
       "    }\n",
       "</style>\n",
       "<table border=\"1\" class=\"dataframe\">\n",
       "  <thead>\n",
       "    <tr style=\"text-align: right;\">\n",
       "      <th></th>\n",
       "      <th>Lead Created At</th>\n",
       "      <th>indicador_leads</th>\n",
       "      <th>tempo_jornada</th>\n",
       "      <th>feriado</th>\n",
       "      <th>day</th>\n",
       "      <th>weekday</th>\n",
       "      <th>is_weekend</th>\n",
       "      <th>lag_4</th>\n",
       "      <th>lag_5</th>\n",
       "      <th>lag_6</th>\n",
       "      <th>lag_7</th>\n",
       "      <th>lag_8</th>\n",
       "      <th>lag_9</th>\n",
       "    </tr>\n",
       "  </thead>\n",
       "  <tbody>\n",
       "    <tr>\n",
       "      <th>0</th>\n",
       "      <td>2020-01-01</td>\n",
       "      <td>47.0</td>\n",
       "      <td>29.451766</td>\n",
       "      <td>1</td>\n",
       "      <td>1</td>\n",
       "      <td>2</td>\n",
       "      <td>0</td>\n",
       "      <td>NaN</td>\n",
       "      <td>NaN</td>\n",
       "      <td>NaN</td>\n",
       "      <td>NaN</td>\n",
       "      <td>NaN</td>\n",
       "      <td>NaN</td>\n",
       "    </tr>\n",
       "    <tr>\n",
       "      <th>1</th>\n",
       "      <td>2020-01-02</td>\n",
       "      <td>70.0</td>\n",
       "      <td>27.240385</td>\n",
       "      <td>0</td>\n",
       "      <td>2</td>\n",
       "      <td>3</td>\n",
       "      <td>0</td>\n",
       "      <td>NaN</td>\n",
       "      <td>NaN</td>\n",
       "      <td>NaN</td>\n",
       "      <td>NaN</td>\n",
       "      <td>NaN</td>\n",
       "      <td>NaN</td>\n",
       "    </tr>\n",
       "    <tr>\n",
       "      <th>2</th>\n",
       "      <td>2020-01-03</td>\n",
       "      <td>48.0</td>\n",
       "      <td>33.897341</td>\n",
       "      <td>0</td>\n",
       "      <td>3</td>\n",
       "      <td>4</td>\n",
       "      <td>0</td>\n",
       "      <td>NaN</td>\n",
       "      <td>NaN</td>\n",
       "      <td>NaN</td>\n",
       "      <td>NaN</td>\n",
       "      <td>NaN</td>\n",
       "      <td>NaN</td>\n",
       "    </tr>\n",
       "    <tr>\n",
       "      <th>3</th>\n",
       "      <td>2020-01-04</td>\n",
       "      <td>81.0</td>\n",
       "      <td>27.859436</td>\n",
       "      <td>0</td>\n",
       "      <td>4</td>\n",
       "      <td>5</td>\n",
       "      <td>1</td>\n",
       "      <td>NaN</td>\n",
       "      <td>NaN</td>\n",
       "      <td>NaN</td>\n",
       "      <td>NaN</td>\n",
       "      <td>NaN</td>\n",
       "      <td>NaN</td>\n",
       "    </tr>\n",
       "    <tr>\n",
       "      <th>4</th>\n",
       "      <td>2020-01-05</td>\n",
       "      <td>73.0</td>\n",
       "      <td>35.575490</td>\n",
       "      <td>0</td>\n",
       "      <td>5</td>\n",
       "      <td>6</td>\n",
       "      <td>1</td>\n",
       "      <td>47.0</td>\n",
       "      <td>NaN</td>\n",
       "      <td>NaN</td>\n",
       "      <td>NaN</td>\n",
       "      <td>NaN</td>\n",
       "      <td>NaN</td>\n",
       "    </tr>\n",
       "  </tbody>\n",
       "</table>\n",
       "</div>"
      ],
      "text/plain": [
       "  Lead Created At  indicador_leads  tempo_jornada  feriado  day  weekday  \\\n",
       "0      2020-01-01             47.0      29.451766        1    1        2   \n",
       "1      2020-01-02             70.0      27.240385        0    2        3   \n",
       "2      2020-01-03             48.0      33.897341        0    3        4   \n",
       "3      2020-01-04             81.0      27.859436        0    4        5   \n",
       "4      2020-01-05             73.0      35.575490        0    5        6   \n",
       "\n",
       "   is_weekend  lag_4  lag_5  lag_6  lag_7  lag_8  lag_9  \n",
       "0           0    NaN    NaN    NaN    NaN    NaN    NaN  \n",
       "1           0    NaN    NaN    NaN    NaN    NaN    NaN  \n",
       "2           0    NaN    NaN    NaN    NaN    NaN    NaN  \n",
       "3           1    NaN    NaN    NaN    NaN    NaN    NaN  \n",
       "4           1   47.0    NaN    NaN    NaN    NaN    NaN  "
      ]
     },
     "execution_count": 82,
     "metadata": {},
     "output_type": "execute_result"
    }
   ],
   "source": [
    "for i in range(4, 10):        \n",
    "    of_dados[\"lag_{}\".format(i)] = of_dados[\"indicador_leads\"].shift(i)  \n",
    "    \n",
    "of_dados.head()"
   ]
  },
  {
   "cell_type": "markdown",
   "metadata": {},
   "source": [
    "### 4.3. Separando em treino e teste"
   ]
  },
  {
   "cell_type": "code",
   "execution_count": 83,
   "metadata": {},
   "outputs": [],
   "source": [
    "treino = of_dados[of_dados[\"Lead Created At\"] < \"2020-07-01\"]\n",
    "\n",
    "x_treino = treino.drop([\"Lead Created At\", \"indicador_leads\"], axis = 1)\n",
    "y_treino = treino[\"indicador_leads\"]"
   ]
  },
  {
   "cell_type": "code",
   "execution_count": 84,
   "metadata": {},
   "outputs": [],
   "source": [
    "teste = of_dados[of_dados[\"Lead Created At\"] >= \"2020-07-01\"]\n",
    "\n",
    "x_teste = teste.drop([\"Lead Created At\", \"indicador_leads\"], axis = 1)\n",
    "y_teste = teste[\"indicador_leads\"]"
   ]
  }
 ],
 "metadata": {
  "kernelspec": {
   "display_name": "Python 3",
   "language": "python",
   "name": "python3"
  },
  "language_info": {
   "codemirror_mode": {
    "name": "ipython",
    "version": 3
   },
   "file_extension": ".py",
   "mimetype": "text/x-python",
   "name": "python",
   "nbconvert_exporter": "python",
   "pygments_lexer": "ipython3",
   "version": "3.8.2"
  }
 },
 "nbformat": 4,
 "nbformat_minor": 4
}
