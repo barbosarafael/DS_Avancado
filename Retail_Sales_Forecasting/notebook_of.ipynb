{
 "cells": [
  {
   "cell_type": "markdown",
   "metadata": {},
   "source": [
    "# Previsão de vendas no varejo\n",
    "\n",
    "Quanto de estoque devo ter? Essa é uma pergunta comum no meio varejista, dado que a dinâmica nesse meio é acelerada. Acompanhar essa dinâmica é crucial para as lojas, principalmente na questão do estoque. \n",
    "\n",
    "Aumentando o estoque acarreta nos problemas de custos e diminuindo o estoque temos o problema de clientes insatisfeitos, por exemplo. Fazendo com que a previsão em curto prazo seja tão importante para o setor varejista.\n",
    "\n",
    "## Objetivo\n",
    "\n",
    "O objetivo do presente estudo é encontrar um modelo de previsão de demanda para as próximas 2 a 3 semanas (21 dias). Essa previsão irá ajudar os profissionais da cadeia de suprimentos na tomada de decisão.\n",
    "\n",
    "## Nota\n",
    "\n",
    "O presente notebook contém somente a parte de modelagem. A parte de análise dos dados foi realizada no software R."
   ]
  },
  {
   "cell_type": "markdown",
   "metadata": {},
   "source": [
    "## Importando as bibliotecas"
   ]
  },
  {
   "cell_type": "code",
   "execution_count": 2,
   "metadata": {},
   "outputs": [],
   "source": [
    "import pandas as pd\n",
    "import numpy as np\n",
    "import seaborn as sns\n",
    "import matplotlib.pyplot as plt"
   ]
  },
  {
   "cell_type": "markdown",
   "metadata": {},
   "source": [
    "## Importando os dados"
   ]
  },
  {
   "cell_type": "code",
   "execution_count": 3,
   "metadata": {},
   "outputs": [
    {
     "data": {
      "text/html": [
       "<div>\n",
       "<style scoped>\n",
       "    .dataframe tbody tr th:only-of-type {\n",
       "        vertical-align: middle;\n",
       "    }\n",
       "\n",
       "    .dataframe tbody tr th {\n",
       "        vertical-align: top;\n",
       "    }\n",
       "\n",
       "    .dataframe thead th {\n",
       "        text-align: right;\n",
       "    }\n",
       "</style>\n",
       "<table border=\"1\" class=\"dataframe\">\n",
       "  <thead>\n",
       "    <tr style=\"text-align: right;\">\n",
       "      <th></th>\n",
       "      <th>data</th>\n",
       "      <th>venda</th>\n",
       "      <th>estoque</th>\n",
       "      <th>preco</th>\n",
       "    </tr>\n",
       "  </thead>\n",
       "  <tbody>\n",
       "    <tr>\n",
       "      <th>0</th>\n",
       "      <td>2014-01-01</td>\n",
       "      <td>0</td>\n",
       "      <td>4972</td>\n",
       "      <td>1.29</td>\n",
       "    </tr>\n",
       "    <tr>\n",
       "      <th>1</th>\n",
       "      <td>2014-01-02</td>\n",
       "      <td>70</td>\n",
       "      <td>4902</td>\n",
       "      <td>1.29</td>\n",
       "    </tr>\n",
       "    <tr>\n",
       "      <th>2</th>\n",
       "      <td>2014-01-03</td>\n",
       "      <td>59</td>\n",
       "      <td>4843</td>\n",
       "      <td>1.29</td>\n",
       "    </tr>\n",
       "    <tr>\n",
       "      <th>3</th>\n",
       "      <td>2014-01-04</td>\n",
       "      <td>93</td>\n",
       "      <td>4750</td>\n",
       "      <td>1.29</td>\n",
       "    </tr>\n",
       "    <tr>\n",
       "      <th>4</th>\n",
       "      <td>2014-01-05</td>\n",
       "      <td>96</td>\n",
       "      <td>4654</td>\n",
       "      <td>1.29</td>\n",
       "    </tr>\n",
       "  </tbody>\n",
       "</table>\n",
       "</div>"
      ],
      "text/plain": [
       "         data  venda  estoque  preco\n",
       "0  2014-01-01      0     4972   1.29\n",
       "1  2014-01-02     70     4902   1.29\n",
       "2  2014-01-03     59     4843   1.29\n",
       "3  2014-01-04     93     4750   1.29\n",
       "4  2014-01-05     96     4654   1.29"
      ]
     },
     "execution_count": 3,
     "metadata": {},
     "output_type": "execute_result"
    }
   ],
   "source": [
    "dados = pd.read_csv(filepath_or_buffer = \"data/mock_kaggle.csv\")\n",
    "\n",
    "# dados[\"data\"] = pd.to_datetime(dados[\"data\"], format = \"%Y-%m-%d\")\n",
    "\n",
    "dados.head()"
   ]
  },
  {
   "cell_type": "code",
   "execution_count": 4,
   "metadata": {},
   "outputs": [
    {
     "data": {
      "text/html": [
       "<div>\n",
       "<style scoped>\n",
       "    .dataframe tbody tr th:only-of-type {\n",
       "        vertical-align: middle;\n",
       "    }\n",
       "\n",
       "    .dataframe tbody tr th {\n",
       "        vertical-align: top;\n",
       "    }\n",
       "\n",
       "    .dataframe thead th {\n",
       "        text-align: right;\n",
       "    }\n",
       "</style>\n",
       "<table border=\"1\" class=\"dataframe\">\n",
       "  <thead>\n",
       "    <tr style=\"text-align: right;\">\n",
       "      <th></th>\n",
       "      <th>data</th>\n",
       "      <th>venda</th>\n",
       "      <th>estoque</th>\n",
       "      <th>preco</th>\n",
       "    </tr>\n",
       "  </thead>\n",
       "  <tbody>\n",
       "    <tr>\n",
       "      <th>932</th>\n",
       "      <td>2016-07-27</td>\n",
       "      <td>98</td>\n",
       "      <td>3179</td>\n",
       "      <td>2.39</td>\n",
       "    </tr>\n",
       "    <tr>\n",
       "      <th>933</th>\n",
       "      <td>2016-07-28</td>\n",
       "      <td>108</td>\n",
       "      <td>3071</td>\n",
       "      <td>2.39</td>\n",
       "    </tr>\n",
       "    <tr>\n",
       "      <th>934</th>\n",
       "      <td>2016-07-29</td>\n",
       "      <td>128</td>\n",
       "      <td>4095</td>\n",
       "      <td>2.39</td>\n",
       "    </tr>\n",
       "    <tr>\n",
       "      <th>935</th>\n",
       "      <td>2016-07-30</td>\n",
       "      <td>270</td>\n",
       "      <td>3825</td>\n",
       "      <td>2.39</td>\n",
       "    </tr>\n",
       "    <tr>\n",
       "      <th>936</th>\n",
       "      <td>2016-07-31</td>\n",
       "      <td>183</td>\n",
       "      <td>3642</td>\n",
       "      <td>2.39</td>\n",
       "    </tr>\n",
       "  </tbody>\n",
       "</table>\n",
       "</div>"
      ],
      "text/plain": [
       "           data  venda  estoque  preco\n",
       "932  2016-07-27     98     3179   2.39\n",
       "933  2016-07-28    108     3071   2.39\n",
       "934  2016-07-29    128     4095   2.39\n",
       "935  2016-07-30    270     3825   2.39\n",
       "936  2016-07-31    183     3642   2.39"
      ]
     },
     "execution_count": 4,
     "metadata": {},
     "output_type": "execute_result"
    }
   ],
   "source": [
    "dados.tail()"
   ]
  },
  {
   "cell_type": "markdown",
   "metadata": {},
   "source": [
    "## Série histórica das vendas"
   ]
  },
  {
   "cell_type": "code",
   "execution_count": 5,
   "metadata": {},
   "outputs": [
    {
     "name": "stderr",
     "output_type": "stream",
     "text": [
      "/mnt/e/Documentos/Ciência_de_dados_Estudo/Grupo_DS_Avancado/Retail_Sales_Forecasting/venv_retail_sales_forecasting/lib/python3.8/site-packages/pandas/plotting/_matplotlib/core.py:1192: UserWarning: FixedFormatter should only be used together with FixedLocator\n",
      "  ax.set_xticklabels(xticklabels)\n"
     ]
    },
    {
     "data": {
      "image/png": "[encoded data removed]",
      "text/plain": [
       "<Figure size 864x432 with 1 Axes>"
      ]
     },
     "metadata": {
      "needs_background": "light"
     },
     "output_type": "display_data"
    }
   ],
   "source": [
    "_ = dados.plot(kind = \"line\", x = \"data\", y = \"venda\", figsize = (12, 6))\n",
    "_ = plt.title(label = \"Série histórica de vendas\")"
   ]
  },
  {
   "cell_type": "markdown",
   "metadata": {},
   "source": [
    "## Treino e teste\n",
    "\n",
    "- Devido a série histórica possuir frequência diária, que compreende os períodos de 01/01/2014 à 31/07/2016, vamos separar:\n",
    "\n",
    "    - treino: 01/01/2014 ~ 31/06/2016\n",
    "    - teste: 01/07/2016 ~ 31/07/2016"
   ]
  },
  {
   "cell_type": "code",
   "execution_count": 6,
   "metadata": {},
   "outputs": [],
   "source": [
    "treino = dados[dados[\"data\"] <= \"2016-06-31\"]\n",
    "teste = dados[dados[\"data\"] > \"2016-06-31\"]\n",
    "\n",
    "x_treino = treino.drop(\"venda\", axis = 1)\n",
    "y_treino = treino[\"venda\"]\n",
    "\n",
    "x_teste = teste.drop(\"venda\", axis = 1)\n",
    "y_teste = teste[\"venda\"]"
   ]
  },
  {
   "cell_type": "markdown",
   "metadata": {},
   "source": [
    "## Baseline\n",
    "\n",
    "- O nosso modelo simples será o valor anterior ao "
   ]
  },
  {
   "cell_type": "code",
   "execution_count": 8,
   "metadata": {},
   "outputs": [],
   "source": [
    "from sktime.forecasting.naive import NaiveForecaster"
   ]
  },
  {
   "cell_type": "code",
   "execution_count": null,
   "metadata": {},
   "outputs": [],
   "source": [
    "import sktime"
   ]
  },
  {
   "cell_type": "code",
   "execution_count": null,
   "metadata": {},
   "outputs": [],
   "source": [
    "import numpy as np\n",
    "\n",
    "\n",
    "from sktime.datasets import load_airline\n",
    "from sktime.forecasting.theta import ThetaForecaster\n",
    "from sktime.forecasting.model_selection import temporal_train_test_split\n",
    "from sktime.performance_metrics.forecasting import smape_loss"
   ]
  },
  {
   "cell_type": "code",
   "execution_count": null,
   "metadata": {},
   "outputs": [],
   "source": [
    "!pip3 install sktime"
   ]
  },
  {
   "cell_type": "code",
   "execution_count": 7,
   "metadata": {},
   "outputs": [],
   "source": [
    "import sklearn"
   ]
  },
  {
   "cell_type": "code",
   "execution_count": 8,
   "metadata": {},
   "outputs": [
    {
     "ename": "ModuleNotFoundError",
     "evalue": "No module named 'sklego'",
     "output_type": "error",
     "traceback": [
      "\u001b[0;31m---------------------------------------------------------------------------\u001b[0m",
      "\u001b[0;31mModuleNotFoundError\u001b[0m                       Traceback (most recent call last)",
      "\u001b[0;32m<ipython-input-8-67a830a10447>\u001b[0m in \u001b[0;36m<module>\u001b[0;34m\u001b[0m\n\u001b[0;32m----> 1\u001b[0;31m \u001b[0;32mimport\u001b[0m \u001b[0msklego\u001b[0m\u001b[0;34m\u001b[0m\u001b[0;34m\u001b[0m\u001b[0m\n\u001b[0m",
      "\u001b[0;31mModuleNotFoundError\u001b[0m: No module named 'sklego'"
     ]
    }
   ],
   "source": [
    "import sklego"
   ]
  },
  {
   "cell_type": "code",
   "execution_count": 10,
   "metadata": {},
   "outputs": [
    {
     "ename": "ModuleNotFoundError",
     "evalue": "No module named 'sklego'",
     "output_type": "error",
     "traceback": [
      "\u001b[0;31m---------------------------------------------------------------------------\u001b[0m",
      "\u001b[0;31mModuleNotFoundError\u001b[0m                       Traceback (most recent call last)",
      "\u001b[0;32m<ipython-input-10-89e04e214ffb>\u001b[0m in \u001b[0;36m<module>\u001b[0;34m\u001b[0m\n\u001b[0;32m----> 1\u001b[0;31m \u001b[0;32mfrom\u001b[0m \u001b[0msklego\u001b[0m\u001b[0;34m.\u001b[0m\u001b[0mpreprocessing\u001b[0m \u001b[0;32mimport\u001b[0m \u001b[0mRandomAdder\u001b[0m\u001b[0;34m\u001b[0m\u001b[0;34m\u001b[0m\u001b[0m\n\u001b[0m",
      "\u001b[0;31mModuleNotFoundError\u001b[0m: No module named 'sklego'"
     ]
    }
   ],
   "source": [
    "from sklego.preprocessing import RandomAdder"
   ]
  },
  {
   "cell_type": "code",
   "execution_count": 11,
   "metadata": {},
   "outputs": [
    {
     "name": "stdout",
     "output_type": "stream",
     "text": [
      "Requirement already satisfied: sklego in ./venv_retail_sales_forecasting/lib/python3.8/site-packages (0.0)\n",
      "Requirement already satisfied: scikit-lego in ./venv_retail_sales_forecasting/lib/python3.8/site-packages (from sklego) (0.5.1)\n",
      "Requirement already satisfied: Deprecated>=1.2.6 in ./venv_retail_sales_forecasting/lib/python3.8/site-packages (from scikit-lego->sklego) (1.2.10)\n",
      "Requirement already satisfied: scipy>=1.2.0 in ./venv_retail_sales_forecasting/lib/python3.8/site-packages (from scikit-lego->sklego) (1.5.1)\n",
      "Requirement already satisfied: autograd>=1.2 in ./venv_retail_sales_forecasting/lib/python3.8/site-packages (from scikit-lego->sklego) (1.3)\n",
      "Requirement already satisfied: scikit-learn>=0.20.2 in ./venv_retail_sales_forecasting/lib/python3.8/site-packages (from scikit-lego->sklego) (0.23.1)\n",
      "Requirement already satisfied: patsy>=0.5.1 in ./venv_retail_sales_forecasting/lib/python3.8/site-packages (from scikit-lego->sklego) (0.5.1)\n",
      "Requirement already satisfied: cvxpy>=1.0.24 in ./venv_retail_sales_forecasting/lib/python3.8/site-packages (from scikit-lego->sklego) (1.1.3)\n",
      "Requirement already satisfied: umap-learn>=0.4.3 in ./venv_retail_sales_forecasting/lib/python3.8/site-packages (from scikit-lego->sklego) (0.4.6)\n",
      "Requirement already satisfied: numpy>=1.16.0 in ./venv_retail_sales_forecasting/lib/python3.8/site-packages (from scikit-lego->sklego) (1.19.1)\n",
      "Requirement already satisfied: pandas>=0.23.4 in ./venv_retail_sales_forecasting/lib/python3.8/site-packages (from scikit-lego->sklego) (1.0.5)\n",
      "Requirement already satisfied: wrapt<2,>=1.10 in ./venv_retail_sales_forecasting/lib/python3.8/site-packages (from Deprecated>=1.2.6->scikit-lego->sklego) (1.12.1)\n",
      "Requirement already satisfied: future>=0.15.2 in ./venv_retail_sales_forecasting/lib/python3.8/site-packages (from autograd>=1.2->scikit-lego->sklego) (0.18.2)\n",
      "Requirement already satisfied: joblib>=0.11 in ./venv_retail_sales_forecasting/lib/python3.8/site-packages (from scikit-learn>=0.20.2->scikit-lego->sklego) (0.16.0)\n",
      "Requirement already satisfied: threadpoolctl>=2.0.0 in ./venv_retail_sales_forecasting/lib/python3.8/site-packages (from scikit-learn>=0.20.2->scikit-lego->sklego) (2.1.0)\n",
      "Requirement already satisfied: six in ./venv_retail_sales_forecasting/lib/python3.8/site-packages (from patsy>=0.5.1->scikit-lego->sklego) (1.15.0)\n",
      "Requirement already satisfied: ecos>=2 in ./venv_retail_sales_forecasting/lib/python3.8/site-packages (from cvxpy>=1.0.24->scikit-lego->sklego) (2.0.7.post1)\n",
      "Requirement already satisfied: osqp>=0.4.1 in ./venv_retail_sales_forecasting/lib/python3.8/site-packages (from cvxpy>=1.0.24->scikit-lego->sklego) (0.6.1)\n",
      "Requirement already satisfied: scs>=1.1.3 in ./venv_retail_sales_forecasting/lib/python3.8/site-packages (from cvxpy>=1.0.24->scikit-lego->sklego) (2.1.2)\n",
      "Requirement already satisfied: numba!=0.47,>=0.46 in ./venv_retail_sales_forecasting/lib/python3.8/site-packages (from umap-learn>=0.4.3->scikit-lego->sklego) (0.50.1)\n",
      "Requirement already satisfied: pytz>=2017.2 in ./venv_retail_sales_forecasting/lib/python3.8/site-packages (from pandas>=0.23.4->scikit-lego->sklego) (2020.1)\n",
      "Requirement already satisfied: python-dateutil>=2.6.1 in ./venv_retail_sales_forecasting/lib/python3.8/site-packages (from pandas>=0.23.4->scikit-lego->sklego) (2.8.1)\n",
      "Requirement already satisfied: llvmlite<0.34,>=0.33.0.dev0 in ./venv_retail_sales_forecasting/lib/python3.8/site-packages (from numba!=0.47,>=0.46->umap-learn>=0.4.3->scikit-lego->sklego) (0.33.0)\n",
      "Requirement already satisfied: setuptools in ./venv_retail_sales_forecasting/lib/python3.8/site-packages (from numba!=0.47,>=0.46->umap-learn>=0.4.3->scikit-lego->sklego) (44.0.0)\n"
     ]
    }
   ],
   "source": [
    "!pip3 install sklego"
   ]
  },
  {
   "cell_type": "code",
   "execution_count": null,
   "metadata": {},
   "outputs": [],
   "source": []
  }
 ],
 "metadata": {
  "kernelspec": {
   "display_name": "Python 3",
   "language": "python",
   "name": "python3"
  },
  "language_info": {
   "codemirror_mode": {
    "name": "ipython",
    "version": 3
   },
   "file_extension": ".py",
   "mimetype": "text/x-python",
   "name": "python",
   "nbconvert_exporter": "python",
   "pygments_lexer": "ipython3",
   "version": "3.8.2"
  }
 },
 "nbformat": 4,
 "nbformat_minor": 4
}
