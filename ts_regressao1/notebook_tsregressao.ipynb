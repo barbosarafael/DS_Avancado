{
 "cells": [
  {
   "cell_type": "markdown",
   "metadata": {},
   "source": [
    "# Séries temporais com Regressão Linear\n",
    "\n",
    "**Autor**: [Rafael Barbosa]()\n",
    "\n",
    "**Participação especial**: [Maykon Schots]()\n",
    "\n",
    "*adicionar o linkedin novamente*\n",
    "\n",
    "**Objetivo:** Temos uma série temporal de frequência diária de vendas que inicia em Jan/2020 e termina no final de Jul/2020. Queremos prever estas vendas para a próxima semana, dada as características que estão presentes no banco de dados abaixo."
   ]
  },
  {
   "cell_type": "markdown",
   "metadata": {},
   "source": [
    "## 1. Bibliotecas e configurações adicionais\n"
   ]
  },
  {
   "cell_type": "code",
   "execution_count": 1,
   "metadata": {},
   "outputs": [],
   "source": [
    "#--- Bibliotecas iniciais\n",
    "\n",
    "import pandas as pd\n",
    "import numpy as np\n",
    "import seaborn as sns\n",
    "import matplotlib.pyplot as plt\n",
    "import holidays\n",
    "\n",
    "\n",
    "#--- Configurações adicionais\n",
    "\n",
    "plt.style.use(\"seaborn-muted\")\n",
    "pd.set_option(\"display.max_columns\", None)"
   ]
  },
  {
   "cell_type": "markdown",
   "metadata": {},
   "source": [
    "## 2. Carregando os dados"
   ]
  },
  {
   "cell_type": "code",
   "execution_count": 2,
   "metadata": {},
   "outputs": [
    {
     "data": {
      "text/html": [
       "<div>\n",
       "<style scoped>\n",
       "    .dataframe tbody tr th:only-of-type {\n",
       "        vertical-align: middle;\n",
       "    }\n",
       "\n",
       "    .dataframe tbody tr th {\n",
       "        vertical-align: top;\n",
       "    }\n",
       "\n",
       "    .dataframe thead th {\n",
       "        text-align: right;\n",
       "    }\n",
       "</style>\n",
       "<table border=\"1\" class=\"dataframe\">\n",
       "  <thead>\n",
       "    <tr style=\"text-align: right;\">\n",
       "      <th></th>\n",
       "      <th>Lead Created At</th>\n",
       "      <th>Lead Id</th>\n",
       "      <th>Purchase Source</th>\n",
       "      <th>JID</th>\n",
       "      <th>tempo_jornada</th>\n",
       "      <th>flag_jornada</th>\n",
       "      <th>flag_venda</th>\n",
       "      <th>Canal</th>\n",
       "    </tr>\n",
       "  </thead>\n",
       "  <tbody>\n",
       "    <tr>\n",
       "      <th>0</th>\n",
       "      <td>2020-01-06 22:39</td>\n",
       "      <td>MSS-00003108-bf9d-4679-8780-36931ab4ae49-2020</td>\n",
       "      <td>fb-geral-lookalike-dco</td>\n",
       "      <td>1</td>\n",
       "      <td>1.0</td>\n",
       "      <td>Primeiro Contato</td>\n",
       "      <td>0.0</td>\n",
       "      <td>FB</td>\n",
       "    </tr>\n",
       "    <tr>\n",
       "      <th>1</th>\n",
       "      <td>2020-02-21 19:18</td>\n",
       "      <td>MSS-00003108-bf9d-4679-8780-36931ab4ae49-2020</td>\n",
       "      <td>sms-pre-carnaval-abandono</td>\n",
       "      <td>2</td>\n",
       "      <td>47.0</td>\n",
       "      <td>Ultimo Contato</td>\n",
       "      <td>0.0</td>\n",
       "      <td>SMS</td>\n",
       "    </tr>\n",
       "    <tr>\n",
       "      <th>2</th>\n",
       "      <td>2020-05-13 14:15</td>\n",
       "      <td>MSS-000031d0-5499-4e58-a88d-9afbcbb8ee9a-2019</td>\n",
       "      <td>yt-rmkt-videos-videovendas3</td>\n",
       "      <td>3</td>\n",
       "      <td>143.0</td>\n",
       "      <td>Ultimo Contato</td>\n",
       "      <td>0.0</td>\n",
       "      <td>YT</td>\n",
       "    </tr>\n",
       "    <tr>\n",
       "      <th>3</th>\n",
       "      <td>2020-07-23 22:28</td>\n",
       "      <td>MSS-00003bb2-b409-47b3-862f-e6c82b311d0c-2020</td>\n",
       "      <td>insta-bio</td>\n",
       "      <td>1</td>\n",
       "      <td>1.0</td>\n",
       "      <td>Primeiro Contato</td>\n",
       "      <td>0.0</td>\n",
       "      <td>FB</td>\n",
       "    </tr>\n",
       "    <tr>\n",
       "      <th>4</th>\n",
       "      <td>2020-05-12 22:51</td>\n",
       "      <td>MSS-0000610b-1170-47f5-990b-239d6eaef81b-2020</td>\n",
       "      <td>fb-rmkt-video-dco</td>\n",
       "      <td>1</td>\n",
       "      <td>1.0</td>\n",
       "      <td>Primeiro Contato</td>\n",
       "      <td>0.0</td>\n",
       "      <td>FB</td>\n",
       "    </tr>\n",
       "  </tbody>\n",
       "</table>\n",
       "</div>"
      ],
      "text/plain": [
       "    Lead Created At                                        Lead Id  \\\n",
       "0  2020-01-06 22:39  MSS-00003108-bf9d-4679-8780-36931ab4ae49-2020   \n",
       "1  2020-02-21 19:18  MSS-00003108-bf9d-4679-8780-36931ab4ae49-2020   \n",
       "2  2020-05-13 14:15  MSS-000031d0-5499-4e58-a88d-9afbcbb8ee9a-2019   \n",
       "3  2020-07-23 22:28  MSS-00003bb2-b409-47b3-862f-e6c82b311d0c-2020   \n",
       "4  2020-05-12 22:51  MSS-0000610b-1170-47f5-990b-239d6eaef81b-2020   \n",
       "\n",
       "               Purchase Source  JID  tempo_jornada      flag_jornada  \\\n",
       "0       fb-geral-lookalike-dco    1            1.0  Primeiro Contato   \n",
       "1    sms-pre-carnaval-abandono    2           47.0    Ultimo Contato   \n",
       "2  yt-rmkt-videos-videovendas3    3          143.0    Ultimo Contato   \n",
       "3                    insta-bio    1            1.0  Primeiro Contato   \n",
       "4            fb-rmkt-video-dco    1            1.0  Primeiro Contato   \n",
       "\n",
       "   flag_venda Canal  \n",
       "0         0.0    FB  \n",
       "1         0.0   SMS  \n",
       "2         0.0    YT  \n",
       "3         0.0    FB  \n",
       "4         0.0    FB  "
      ]
     },
     "execution_count": 2,
     "metadata": {},
     "output_type": "execute_result"
    }
   ],
   "source": [
    "dados = pd.read_csv(\"data/output-dados-case.csv\")\n",
    "\n",
    "dados.head()"
   ]
  },
  {
   "cell_type": "code",
   "execution_count": 3,
   "metadata": {},
   "outputs": [
    {
     "name": "stdout",
     "output_type": "stream",
     "text": [
      "<class 'pandas.core.frame.DataFrame'>\n",
      "RangeIndex: 309959 entries, 0 to 309958\n",
      "Data columns (total 8 columns):\n",
      " #   Column           Non-Null Count   Dtype  \n",
      "---  ------           --------------   -----  \n",
      " 0   Lead Created At  309959 non-null  object \n",
      " 1   Lead Id          309959 non-null  object \n",
      " 2   Purchase Source  309959 non-null  object \n",
      " 3   JID              309959 non-null  int64  \n",
      " 4   tempo_jornada    309959 non-null  float64\n",
      " 5   flag_jornada     309959 non-null  object \n",
      " 6   flag_venda       293612 non-null  float64\n",
      " 7   Canal            309959 non-null  object \n",
      "dtypes: float64(2), int64(1), object(5)\n",
      "memory usage: 18.9+ MB\n"
     ]
    }
   ],
   "source": [
    "dados.info()"
   ]
  },
  {
   "cell_type": "markdown",
   "metadata": {},
   "source": [
    "- Observando o banco de dados, temos a informação de todas as interações em que o cliente teve com a loja\n",
    "\n",
    "- A variável de data `Lead Created At` não está definida corretamente como data, somente como objeto\n",
    "\n",
    "- A variável `flag_venda` indica se esta determinada interação cliente-loja resultou em uma compra ou não\n",
    "\n",
    "- Então, o caminho para criar a nossa série temporal de vendas é:\n",
    "\n",
    "    1. Criar uma nova variável que sempre vai ter o valor de 1, indicando a interação quantitativamente\n",
    "\n",
    "    2. Filtrar somente as observações em que houveram venda\n",
    "\n",
    "    3. Com isso, faremos uma agregação da soma de todas as vendas por dia"
   ]
  },
  {
   "cell_type": "code",
   "execution_count": 4,
   "metadata": {},
   "outputs": [],
   "source": [
    "def modific_inicial_banco(df, var_data, var_flag_venda):\n",
    "    \n",
    "    \"\"\"\n",
    "    Função para ajustar em um formato inicial de séries temporais os dados recebidos   \n",
    "    ------------\n",
    "    Parâmetros:\n",
    "    ------------\n",
    "    \n",
    "    df: DataFrame pandas;\n",
    "    var_data: Variável de data a ser tratada\n",
    "    var_flag_venda: Variável de indicador de venda ou não\n",
    "    \n",
    "    ------\n",
    "    Saída:\n",
    "    ------\n",
    "    df: DataFrame pandas com o dia e a quantidade de vendas \n",
    "    \"\"\"\n",
    "    \n",
    "    df1 = df.copy()\n",
    "    \n",
    "    df1[var_data] = pd.to_datetime(df1[var_data], format = \"%Y-%m-%d\")\n",
    "    \n",
    "    df1[\"indicador_leads\"] = 1\n",
    "    \n",
    "    df1 = df1[df1[var_flag_venda] == 1].resample(\"D\", on = var_data)[\"indicador_leads\"].sum()\n",
    "    \n",
    "    return(df1.reset_index())"
   ]
  },
  {
   "cell_type": "code",
   "execution_count": 5,
   "metadata": {},
   "outputs": [
    {
     "data": {
      "text/html": [
       "<div>\n",
       "<style scoped>\n",
       "    .dataframe tbody tr th:only-of-type {\n",
       "        vertical-align: middle;\n",
       "    }\n",
       "\n",
       "    .dataframe tbody tr th {\n",
       "        vertical-align: top;\n",
       "    }\n",
       "\n",
       "    .dataframe thead th {\n",
       "        text-align: right;\n",
       "    }\n",
       "</style>\n",
       "<table border=\"1\" class=\"dataframe\">\n",
       "  <thead>\n",
       "    <tr style=\"text-align: right;\">\n",
       "      <th></th>\n",
       "      <th>Lead Created At</th>\n",
       "      <th>indicador_leads</th>\n",
       "    </tr>\n",
       "  </thead>\n",
       "  <tbody>\n",
       "    <tr>\n",
       "      <th>0</th>\n",
       "      <td>2020-01-01</td>\n",
       "      <td>47</td>\n",
       "    </tr>\n",
       "    <tr>\n",
       "      <th>1</th>\n",
       "      <td>2020-01-02</td>\n",
       "      <td>70</td>\n",
       "    </tr>\n",
       "    <tr>\n",
       "      <th>2</th>\n",
       "      <td>2020-01-03</td>\n",
       "      <td>48</td>\n",
       "    </tr>\n",
       "    <tr>\n",
       "      <th>3</th>\n",
       "      <td>2020-01-04</td>\n",
       "      <td>81</td>\n",
       "    </tr>\n",
       "    <tr>\n",
       "      <th>4</th>\n",
       "      <td>2020-01-05</td>\n",
       "      <td>73</td>\n",
       "    </tr>\n",
       "  </tbody>\n",
       "</table>\n",
       "</div>"
      ],
      "text/plain": [
       "  Lead Created At  indicador_leads\n",
       "0      2020-01-01               47\n",
       "1      2020-01-02               70\n",
       "2      2020-01-03               48\n",
       "3      2020-01-04               81\n",
       "4      2020-01-05               73"
      ]
     },
     "execution_count": 5,
     "metadata": {},
     "output_type": "execute_result"
    }
   ],
   "source": [
    "dados1 = modific_inicial_banco(df = dados, \n",
    "                               var_data = \"Lead Created At\", \n",
    "                               var_flag_venda = \"flag_venda\")\n",
    "\n",
    "dados1.head()"
   ]
  },
  {
   "cell_type": "code",
   "execution_count": 6,
   "metadata": {},
   "outputs": [
    {
     "data": {
      "image/png": "[encoded data removed]",
      "text/plain": [
       "<Figure size 1080x504 with 1 Axes>"
      ]
     },
     "metadata": {
      "needs_background": "light"
     },
     "output_type": "display_data"
    }
   ],
   "source": [
    "_ = dados1.plot(x = \"Lead Created At\", y = \"indicador_leads\", kind = \"line\", \n",
    "               figsize = [15, 7], legend = False)\n",
    "_ = plt.xlabel(\"Data\", fontsize = 14, color = \"black\")\n",
    "_ = plt.ylabel(\"Quantidade de vendas\", fontsize = 14, color = \"black\")\n",
    "_ = plt.tick_params(axis = \"x\", labelsize = 12, labelcolor = \"black\")\n",
    "_ = plt.tick_params(axis = \"y\", labelsize = 12, labelcolor = \"black\")"
   ]
  },
  {
   "cell_type": "markdown",
   "metadata": {},
   "source": [
    "## 3. Definindo a métrica"
   ]
  },
  {
   "cell_type": "markdown",
   "metadata": {},
   "source": [
    "- Raiz Quadrada do Erro Quadrático Médio\n",
    "\n",
    "$$ \\text{RMSE} = \\sqrt{\\frac{1}{n}\\sum_{i}(y_i - \\hat{y}_i)} $$"
   ]
  },
  {
   "cell_type": "markdown",
   "metadata": {},
   "source": [
    "## 4. Variáveis para a modelagem"
   ]
  }
 ],
 "metadata": {
  "kernelspec": {
   "display_name": "Python 3",
   "language": "python",
   "name": "python3"
  },
  "language_info": {
   "codemirror_mode": {
    "name": "ipython",
    "version": 3
   },
   "file_extension": ".py",
   "mimetype": "text/x-python",
   "name": "python",
   "nbconvert_exporter": "python",
   "pygments_lexer": "ipython3",
   "version": "3.8.6"
  }
 },
 "nbformat": 4,
 "nbformat_minor": 4
}
