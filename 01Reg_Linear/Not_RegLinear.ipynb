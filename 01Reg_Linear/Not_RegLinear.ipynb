{
 "cells": [
  {
   "cell_type": "markdown",
   "metadata": {
    "colab_type": "text",
    "id": "LaT13yrKYc16"
   },
   "source": [
    "# Regressão Linear - Grupo de DS Avançado\n",
    "\n",
    "\n",
    "#### Autor: Rafael Barbosa - [LinkedIn](https://www.linkedin.com/in/rafael-barbosa0/) - [Github](https://github.com/barbosarafael)\n",
    "\n",
    "#### **Nota**\n",
    "Esse tutorial/post/notebook/o_que_você_quiser_chamar possui um viés acadêmico, então tem coisas que provavelmente passarei despercebido em relação aos conceitos. Um dica, se não entendeu algo, mande mensagem ou dê a famosa googlada."
   ]
  },
  {
   "cell_type": "markdown",
   "metadata": {
    "colab_type": "text",
    "id": "bVFLcaFeZG0R"
   },
   "source": [
    "<p align=\"center\">\n",
    "  <img alt=\"decision_tree\" src=\"https://pics.me.me/linear-regression-is-not-machine-learning-is-change-my-mind-45626240.png\" alt=\"drawing\" width=\"500\" height=\"400\"/>\n",
    "  <br>\n",
    "    <em> <b> Polêmica de primeira assim ? </b> </em>\n",
    "</p>\n",
    "\n",
    "## 1. Introdução\n",
    "\n",
    "---\n",
    "\n",
    "- A Regressão Linear é um método estatístico, também utilizado em aprendizado de máquina, para fornecer a relação linear entre uma ou mais variáveis X (chamadas de **independente(s), explicativa(s), feature(s), etc**) com uma outra variável fixa Y (esta chamada de **dependente, resposta, target, etc**);\n",
    "\n",
    "- A partir desse momento chamarei as variáveis desse jeito:\n",
    "\n",
    "  - **X**: Explicativa(s)\n",
    "  - **Y**: Resposta\n",
    "\n",
    "- Quando temos somente uma variável X **explicativa**, chamamos de Regressão Linear Simples. Por exemplo:\n",
    "\n",
    "  - **X**: Peso da pessoa; **Y**: Altura da pessoa;\n",
    "  - **X**: Tempo de uso; **Y**: Preço do carro.\n",
    "\n",
    "- Já quando possui duas ou mais variáveis **explicativas**, então chamamos de Regressão Linear Múltipla. Por exemplo:\n",
    "\n",
    "  - **X**: Peso da pessoa, tamanho da cintura e largura do braço; **Y**: Altura da pessoa;\n",
    "  - **X**: Tempo de uso e tamanho do capô; **Y**: Preço do carro.\n",
    "\n",
    "- Podemos utilizar a Regressão Linear com duas finalidades:\n",
    "\n",
    "  - Modelagem: Onde queremos verificar o quanto cada variável explicativa impacta na nossa variável resposta, por meio do coeficiente resultante;\n",
    "\n",
    "  - Previsão: Quando queremos prever novos dados a partir do nosso modelo já criado.\n",
    "\n",
    "- Supondo uma variável X explicativa qualquer e outra Y resposta, podemos verificar, empiricamente, a relação linear entre elas por meio de um gráfico de dispersão (scatterplot);\n",
    "\n",
    "- Se quisermos verificar estatisticamente e imparcialmente podemos fazer aplicar uma técnica chamada de correlação linear de Pearson."
   ]
  },
  {
   "cell_type": "markdown",
   "metadata": {
    "colab_type": "text",
    "id": "41bazIDX1id1"
   },
   "source": [
    "# 2. Correlação\n",
    "\n",
    "---\n",
    "\n",
    "- Mede o nível de associação linear entre duas variáveis quantitativas X e Y;\n",
    "\n",
    "- Esta associação pode apresentar as seguintes particularidades:\n",
    "\n",
    "  - Ser **positiva**, isto é, os valores das variáveis X e Y são diretamente proporcionais. Exemplo hipotético, quanto maior o peso **maior** a altura;\n",
    "\n",
    "  - Ser **negativa**, isto é, os valores das variáveis X e Y são inversamente proporcionais. Exemplo hipotético, quanto maior o peso **menor** a altura;\n",
    "\n",
    "  - Não possuir correlação.\n",
    "\n",
    "- Como mencionado acima, a correlação pode ser medida intuitivamente ou \"cientificamente\" correta;\n",
    "\n",
    "## 2.1. Scatterplot (método informal)\n",
    "\n",
    "<p align=\"center\">\n",
    "  <img alt=\"decision_tree\" src=\"https://www.statisticshowto.com/wp-content/uploads/2012/10/pearson-2-small.png\" alt=\"drawing\" width=\"600\" height=\"300\"/>\n",
    "  <br>\n",
    "    <em> <b> Finjam que não existem os números e somente observem o comportamento dos pontos e a direção da seta. Retirado de: </b> https://www.statisticshowto.com/probability-and-statistics/correlation-coefficient-formula/ </em>\n",
    "</p>\n",
    "\n",
    "- Os pontos gerados para a construção do *scatterplot* são gerados a partir de cada observação (linha) que corresponde a um ponto no $ R^2 $ com as coordenadas $ (x_i, y_i), i = 1, 2, ..., n $;\n",
    "\n",
    "- Nele podemos verificar informalmente mas não podemos provar \"cientificamente\" (aquele famoso numerozinho) que a variável X possui uma relação linear com a Y;\n",
    "\n",
    "- Por isso temos o coeficiente de correlação de Pearson.\n",
    "\n",
    "## 2.2. Coeficiente de correlação de Pearson (método formal)\n",
    "\n",
    "<p align=\"center\">\n",
    "  <img alt=\"decision_tree\" src=\"https://3.bp.blogspot.com/-CVoTLNP0_lo/WJnRWLD_sKI/AAAAAAAAAI8/t5OxUzBAyfYHUWpxT4oOP6qvkZXVjBpFACLcB/s320/1j58h9.jpg\" alt=\"drawing\" width=\"400\" height=\"300\"/>\n",
    "  <br>\n",
    "    <em> <b> Memes everywhere. Retirado de: </b> https://adampegler.blogspot.com/2017/02/bonetts-2008-method-for-confidence.html </em>\n",
    "</p>\n",
    "\n",
    "- Calculado a partir da fórmula abaixo:\n",
    "\n",
    "$$ R_{xy} = \\frac{\\sum_{i = 1}^{n}(x_i - \\bar{x})(y_i - \\bar{y})}{\\sqrt{\\sum_{i = 1}^{n}(x_i - \\bar{x})^2} \\sqrt{\\sum_{i = 1}^{n}(y_i - \\bar{y})^2}} $$\n",
    "\n",
    "- Ele é o responsável por soltar o \"numerozinho\" que usaremos para verificar a relação linear entre a variável explicativa X e a resposta Y;\n",
    "\n",
    "- Este coeficiente $ R_{xy} $ varia de -1 a 1 e pode ter algumas das seguintes interpretações:\n",
    "\n",
    "  - Se $ R_{xy} $ = -1, então a relação linear entre as variáveis X e Y é **positiva** e perfeita;\n",
    "  - Se $ R_{xy} $ = 0, então não existe relação linear entre as variáveis X e Y;\n",
    "  - Se $ R_{xy} $ = 1, então a relação linear entre as variáveis X e Y é **negativa** e perfeita.\n",
    "\n",
    "## 2.3. Exemplo no Python\n",
    "\n",
    "- Inicialmente vamos utilizar duas variáveis do dataset iris para verificar como interpretar esta correlação"
   ]
  },
  {
   "cell_type": "markdown",
   "metadata": {
    "colab_type": "text",
    "id": "BmndnFteb1rB"
   },
   "source": [
    "### 2.3.1 Scatterplot\n",
    "\n",
    "- Por meio do scatterplot podemos verificar que há uma tendência decrescete entre a relação da **Sepal Width** com a **Petal Length**, indicando que elas possuem uma correlação linear negativa;\n",
    "\n",
    "- Já entre as variáveis **Petal Length** e **Sepal Length**, temos indicadores de uma relação diretamente proporcional entre elas, dado que a tendência da reta é crescente;\n",
    "\n",
    "- Novamente, essa ideia do scatterplot é justamente ter um indicador de correlação. Não conseguimos comprovar cientificamente a partir dela."
   ]
  },
  {
   "cell_type": "code",
   "execution_count": 1,
   "metadata": {
    "colab": {
     "base_uri": "https://localhost:8080/",
     "height": 553
    },
    "colab_type": "code",
    "id": "9bXsn6gYXmB7",
    "outputId": "61cf9957-5dc5-4430-fe3d-1bde4e178c94"
   },
   "outputs": [
    {
     "name": "stderr",
     "output_type": "stream",
     "text": [
      "/home/rafael/.local/lib/python3.8/site-packages/sklearn/utils/deprecation.py:143: FutureWarning: The sklearn.metrics.classification module is  deprecated in version 0.22 and will be removed in version 0.24. The corresponding classes / functions should instead be imported from sklearn.metrics. Anything that cannot be imported from sklearn.metrics is now part of the private API.\n",
      "  warnings.warn(message, FutureWarning)\n",
      "findfont: Font family ['sans-serif'] not found. Falling back to DejaVu Sans.\n",
      "findfont: Font family ['sans-serif'] not found. Falling back to DejaVu Sans.\n"
     ]
    },
    {
     "data": {
      "image/png": "[encoded data removed]",
      "text/plain": [
       "<Figure size 576x576 with 2 Axes>"
      ]
     },
     "metadata": {},
     "output_type": "display_data"
    }
   ],
   "source": [
    "import pandas as pd\n",
    "import numpy as np\n",
    "from sklearn.datasets import load_iris\n",
    "import matplotlib.pyplot as plt\n",
    "import seaborn as sns\n",
    "import statsmodels.stats\n",
    "import statsmodels.api as sm\n",
    "from sklearn.model_selection import train_test_split\n",
    "from yellowbrick.regressor import ResidualsPlot\n",
    "from sklearn.linear_model import LinearRegression\n",
    "from scipy import stats\n",
    "\n",
    "\n",
    "#-----------------------------------------\n",
    "\n",
    "pd.set_option('display.max_columns', None)\n",
    "\n",
    "\n",
    "#-----------------------------------------\n",
    "\n",
    "data = load_iris()\n",
    "df = pd.DataFrame(data.data, columns = data.feature_names)\n",
    "\n",
    "f, axes = plt.subplots(2, 1, figsize = (8, 8))\n",
    "\n",
    "sns.regplot(x = df[\"petal length (cm)\"], y = df[\"sepal width (cm)\"], ax = axes[0])\n",
    "sns.regplot(x = df[\"petal length (cm)\"], y = df[\"sepal length (cm)\"], ax = axes[1])\n",
    "\n",
    "plt.show()"
   ]
  },
  {
   "cell_type": "markdown",
   "metadata": {
    "colab_type": "text",
    "id": "PUD6jZUKj9rA"
   },
   "source": [
    "### 2.3.2. Correlação Linear de Pearson\n",
    "\n",
    "- O resultado abaixo nos mostra a matriz de correlação entre as mesmas variáveis do gráfico acima;\n",
    "\n",
    "- Os resultados a serem observados são aqueles que correspondem a nossa primeira variável na linha (ou coluna) e segunda variável na coluna (ou linha).Nela podemos comprovar que:\n",
    "\n",
    "  - A relação linear entre a **Petal Length** e **Sepal Length** é realmente negativa;\n",
    "\n",
    "  - A realação linear entre a **Petal Length** e **Sepal Width** é realmente positiva;\n",
    "\n",
    "- Também podemos observar que a correlação linear entre as variáveis iguais entre si, isto é, **Sepal Length** na linha e **Sepal Length** na coluna, sempre vai ter a correlação perfeita com o valor de 1 para a esta."
   ]
  },
  {
   "cell_type": "code",
   "execution_count": 2,
   "metadata": {
    "colab": {
     "base_uri": "https://localhost:8080/",
     "height": 142
    },
    "colab_type": "code",
    "id": "TNyJ1N_akCsM",
    "outputId": "4daba5da-5606-46d9-dfc1-2dd6a3b2216b"
   },
   "outputs": [
    {
     "data": {
      "text/html": [
       "<div>\n",
       "<style scoped>\n",
       "    .dataframe tbody tr th:only-of-type {\n",
       "        vertical-align: middle;\n",
       "    }\n",
       "\n",
       "    .dataframe tbody tr th {\n",
       "        vertical-align: top;\n",
       "    }\n",
       "\n",
       "    .dataframe thead th {\n",
       "        text-align: right;\n",
       "    }\n",
       "</style>\n",
       "<table border=\"1\" class=\"dataframe\">\n",
       "  <thead>\n",
       "    <tr style=\"text-align: right;\">\n",
       "      <th></th>\n",
       "      <th>petal length (cm)</th>\n",
       "      <th>sepal width (cm)</th>\n",
       "      <th>sepal length (cm)</th>\n",
       "    </tr>\n",
       "  </thead>\n",
       "  <tbody>\n",
       "    <tr>\n",
       "      <th>petal length (cm)</th>\n",
       "      <td>1.000000</td>\n",
       "      <td>-0.42844</td>\n",
       "      <td>0.871754</td>\n",
       "    </tr>\n",
       "    <tr>\n",
       "      <th>sepal width (cm)</th>\n",
       "      <td>-0.428440</td>\n",
       "      <td>1.00000</td>\n",
       "      <td>-0.117570</td>\n",
       "    </tr>\n",
       "    <tr>\n",
       "      <th>sepal length (cm)</th>\n",
       "      <td>0.871754</td>\n",
       "      <td>-0.11757</td>\n",
       "      <td>1.000000</td>\n",
       "    </tr>\n",
       "  </tbody>\n",
       "</table>\n",
       "</div>"
      ],
      "text/plain": [
       "                   petal length (cm)  sepal width (cm)  sepal length (cm)\n",
       "petal length (cm)           1.000000          -0.42844           0.871754\n",
       "sepal width (cm)           -0.428440           1.00000          -0.117570\n",
       "sepal length (cm)           0.871754          -0.11757           1.000000"
      ]
     },
     "execution_count": 2,
     "metadata": {},
     "output_type": "execute_result"
    }
   ],
   "source": [
    "df[[\"petal length (cm)\", \"sepal width (cm)\", \"sepal length (cm)\"]].corr()"
   ]
  },
  {
   "cell_type": "markdown",
   "metadata": {
    "colab_type": "text",
    "id": "INVN5BxeUcG8"
   },
   "source": [
    "# 3. Regressão\n",
    "\n",
    "- Como mencionado acima, a regressão busca entender a relação entre a(s) variável(is) explicativas X com a resposta Y;\n",
    "\n",
    "- A regressão possui a seguinte forma de cálculo:\n",
    "\n",
    "$$ Y_i = \\beta_0 + \\sum^{n}_{i = 1}\\beta_i X_i + \\epsilon_i, \\quad i = 1, 2, \\dots, n $$\n",
    "\n",
    "- onde:\n",
    "\n",
    "  - $ Y_i $ representa a variável resposta que queremos prever, dada os valores da equação;\n",
    "\n",
    "  - $ \\beta_0 $ representa o coeficiente que devemos estimar que representa o intercepto da reta com o eixo Y do gráfico;\n",
    "\n",
    "  - $ \\beta_i $ se este coeficiente tiver $ i = 1 $, então a regressão é denominada de Simples, já se este for $ i > 1 $, então chamamos de regressão Múltipla. Ele é chamado de coeficiente angular, pois ele quem determina a inclinação da reta e, também, representa o quanto varia a média de Y para um aumento de uma unidade na variável **X**;\n",
    "\n",
    "  - $ X_i $ mesmo esquema com o $ i $ do $ \\beta_i $ sobre a ser Simples ou Múltipla, já que ela também faz parte do somatório. Representam as nossas variáveis explicativas **X** no modelo. Cada variável explicativa **X** terá um coeficiente $ \\beta $ associado a esta;\n",
    "\n",
    "  - $ \\epsilon $ é o erro associado a diferença entre o valor previsto e o observado.\n",
    "\n",
    "- O método de estimação para os coeficientes $ \\hat{\\beta_0} $ e $ \\hat{\\beta_i} $ mais conhecido é o Método dos Mínimos Quadrados. Na qual possui o objetivo de achar os coeficientes para que estes minimizem a Soma do Quadrado dos Erros (SQE). Podemos começar a demonstração do seguinte método:\n",
    "\n",
    "$$ \\epsilon =  Y_i - \\beta_0 + \\sum^{n}_{i = 1}\\beta_i X_i $$\n",
    "\n",
    "\n",
    "- O restante da demonstração você pode verificar no [material de aula da professora Lígia Henriques-Rodrigues](https://www.ime.usp.br/~fmachado/MAE229/AULA10.pdf), no [material do professor Luiz Alexandre Peternelli](http://www.dpi.ufv.br/~peternelli/inf162.www.16032004/materiais/CAPITULO9.pdf) e neste [material do professor Marcone Jamilson](http://www.decom.ufop.br/prof/marcone/Disciplinas/MetodosNumericoseEstatisticos/QuadradosMinimos.pdf).\n"
   ]
  },
  {
   "cell_type": "markdown",
   "metadata": {
    "colab_type": "text",
    "id": "PkI3usmZwZrF"
   },
   "source": [
    "## 3.1. Premissas para o uso\n",
    "\n",
    "- Entretanto, nem tudo é flores. Esse método de estimação nos obriga (geralmente, né) que os nossos dados estejam totalmente corretos e obedeçam as suposições para poder aplicá-la corretamente;\n",
    "\n",
    "- Quando eu menciono corretamente é por que nem sempre todo mundo verifica elas, existem casos e casos;\n",
    "\n",
    "- Segundo este [artigo](https://periodicos.ufpe.br/revistas/politicahoje/article/download/3808/31622), autora menciona que para a regressão com o método de mínimos quadrados (OLS), existem 10 pressupostos que devem ser aceitos para que o modelo de Regressão seja consistente."
   ]
  },
  {
   "cell_type": "markdown",
   "metadata": {
    "colab_type": "text",
    "id": "4YNOThYzwdqq"
   },
   "source": [
    "### 3.1.1. Relação entre a(s) variável(is) explicativa(s) com a variável resposta\n",
    "\n",
    "- É esperado que essa relação possa ser representada por uma função linear, isto é, nos parâmetros/coeficientes;\n",
    "\n",
    "- Se essa relação se distanciar de uma função linear, a diferença entre os parâmetros estimados e os verdadeiros valores destes parâmetros não serão próximos e o OLS não irá produzir o melhor estimador linear não-viesado;\n",
    "\n",
    "- O ideal é justamente que esses parâmetros estimados sejam os mais próximos dos verdadeiros possíveis;\n",
    "\n",
    "- Uma das formas de contornar esse problema é fazer transformações nas variáveis explicativas X, como raiz quadrado, log, potências, etc;\n"
   ]
  },
  {
   "cell_type": "markdown",
   "metadata": {
    "colab_type": "text",
    "id": "kxdTy6v0wmM7"
   },
   "source": [
    "### 3.1.2. Variáveis medidas adequadamente\n",
    "\n",
    "- Assim como nas demais áreas, se uma variável é mensurada incorretamente, qualquer interpretação ou inferência a partir dela não serão confiáveis;\n",
    "\n",
    "- No modelo de regressão não é diferente, estas variáveis mensuradas incorretamente irão produzir estimativas incorretas para nossos parâmetros $ \\beta $s, fazendo com que as interpretações para estes sejam totalmente erradas;"
   ]
  },
  {
   "cell_type": "markdown",
   "metadata": {
    "colab_type": "text",
    "id": "mPSkV8urw4Pl"
   },
   "source": [
    "### 3.1.3. O erro possui média 0\n",
    "\n",
    "- Significa dizer que os erro (fatores que não estão incluídos no modelo) não afetam o valor médio de Y;\n",
    "\n",
    "- Por estarmos considerando que a média irá ser 0, então os valores das estimativas diferem igualmente tanto para valores positivos, quanto para negativos e eles acabam por se anular;\n",
    "\n",
    "- Violar essa premissa afeta a estimativa do intercepto."
   ]
  },
  {
   "cell_type": "markdown",
   "metadata": {
    "colab_type": "text",
    "id": "fMtZVF7KxCMW"
   },
   "source": [
    "### 3.1.4. Homocedasticidade do erro\n",
    "\n",
    "<p align=\"center\">\n",
    "  <img alt=\"decision_tree\" src=\"https://methods.sagepub.com/images/virtual/heteroscedasticity-in-canada-fuel-2015-stata/10.4135_9781526472601-fig1.jpg\" alt=\"drawing\" width=\"600\" height=\"300\"/>\n",
    "  <br>\n",
    "    <em> <b> Exemplo de homocedasticidade e heterocedasticidade. Retirado de: </b> https://methods.sagepub.com/dataset/heteroscedasticity-in-canada-fuel-2015-stata </em>\n",
    "</p>\n",
    "\n",
    "\n",
    "\n",
    "- Nesse caso, assumimos que os valores dos **resíduos** (diferença entre o valor observado e o estimado da nossa variável resposta Y) devem ser distribuídos uniformemente, isto é, $ E(e_i^2) = \\sigma^2 $;\n",
    "\n",
    "- A violação desse pressuposto afeta as estimativas do método OLS, na qual prejudica a confiabilidade dos testes de significância e intervalos de confiança;\n",
    "\n",
    "- Para contornar esse problema, podemos adicionar aumentar o número de observações, se possível, ou utilizar as transformações nas variáveis novamente;\n",
    "\n",
    "- Pode-se também verificar esse problema através de um teste estatístico formal. Um deles é o de Levene."
   ]
  },
  {
   "cell_type": "markdown",
   "metadata": {
    "colab_type": "text",
    "id": "f_LKrHNsxCaf"
   },
   "source": [
    "### 3.1.5. Ausência de autocorrelação nos erros\n",
    "\n",
    "- Quando os erros são ordenados, não poderá haver nenhuma relação entre eles;\n",
    "\n",
    "- Um pouco mais formal: é uma correlação existente entre uma observação de erro *i* qualquer com sua anterior *i - 1*, logo, $ E(e_i, e_j) = 0 $;\n",
    "\n",
    "- Um método de verificar essa premissa é a partir do teste de Durbin-Watson."
   ]
  },
  {
   "cell_type": "markdown",
   "metadata": {
    "colab_type": "text",
    "id": "SqWR2pimxCqn"
   },
   "source": [
    "### 3.1.6. A variável resposta não deve ser correlacionada com o erro (*)"
   ]
  },
  {
   "cell_type": "markdown",
   "metadata": {
    "colab_type": "text",
    "id": "etx4_bYMxDAX"
   },
   "source": [
    "### 3.1.7. Seleção de variáveis úteis ou não\n",
    "\n",
    "- Aqui entra, inicialmente, o príncipio da parcimônia. Se a sua métrica muda pouco quando você adiciona muitas variáveis, então o mais correto seria preservar a complexidade do modelo e deixar ele com o menor número possíveis de variáveis, dado sua métrica;\n",
    "\n",
    "- Todas as variáveis importantes **devem ser** incluídas no modelo, assim como as variáveis não importantes **não devem** ser incluídas;\n",
    "\n",
    "- As variáveis que não são importantes no modelo irão enviesar os parâmetros do modelo, causando problemas no erro padrão das estimativas."
   ]
  },
  {
   "cell_type": "markdown",
   "metadata": {
    "colab_type": "text",
    "id": "cB2nDE7TxDKv"
   },
   "source": [
    "### 3.1.8. Multicolineariedade\n",
    "\n",
    "- Esse problema é causado quando há uma forte correlação entre as variáveis explicativas **X**;\n",
    "\n",
    "- Alguns autores mencionam esse problema quando a correlação linear de Pearson é maior que 0.9 ou menor que -0.9 $ (\\rho \\geq 0.9 \\text{ ou } \\rho \\leq -0.9) $;\n",
    "\n",
    "- No artigo a autora menciona que, apesar da multicolonieariedade, o método OLS ainda é o melhor (BLUE) estimador linear não-viesado;\n",
    "\n",
    "- O problema se dá no aumento da variância na estimação dos parâmetros, prejudicando a parte de modelagem, isto é, o quanto cada variável explicativa impacta na variável resposta;\n",
    "\n",
    "- Entretanto, quando o problema é de predição/previsão a multicolineariedade não afeta tanto o modelo;\n",
    "\n",
    "- Outro método de identificação para a multicolineariedade é o VIF (Variance Inflaction Factor), quanto maior, pior."
   ]
  },
  {
   "cell_type": "markdown",
   "metadata": {
    "colab_type": "text",
    "id": "9tZA4yVwxDVn"
   },
   "source": [
    "### 3.1.9. O erro possui distribuição normal\n",
    "\n",
    "- Com média $ \\mu = 0 $ e variância $ \\sigma^2 $;\n",
    "\n",
    "- Para que os coeficientes estimados, $ \\beta $s e $ \\sigma $ sejam não-viesados e eficientes, a distribuição do erro deve ser normal ou gaussiana;\n",
    "\n",
    "- Pode ser verificada a partir dos testes formais de normalidade, como Shapiro-Wilk, Anderson-Darling, etc."
   ]
  },
  {
   "cell_type": "markdown",
   "metadata": {
    "colab_type": "text",
    "id": "SAlW1KkCxDg3"
   },
   "source": [
    "### 3.1.10. Proporção entre o número de observação e de variáveis\n",
    "\n",
    "- Essa afirmação envolve a questão de inversão de matrizes;\n",
    "\n",
    "- E também é desejável que as amostras sejam grandes o suficiente, até mesmo para que possamos entrar no Teorema Central do Limite para realmente confirmar que aquelas variáveis convergem a uma distribuição normal,"
   ]
  },
  {
   "cell_type": "markdown",
   "metadata": {},
   "source": [
    "# 4. Exemplo prático da Regressão Linear Simples\n",
    "\n",
    "- O objetivo é seguir o [tutorial](https://towardsdatascience.com/assumptions-of-linear-regression-algorithm-ed9ea32224e1) dos pressupostos da regressão linear e aplicar para estes [dados](https://www.kaggle.com/smid80/weatherww2);\n",
    "\n",
    "- Apesar de termos citados 10 pressupostos, o [tutorial](https://towardsdatascience.com/assumptions-of-linear-regression-algorithm-ed9ea32224e1) cita 5:\n",
    "\n",
    "    1. Linear Relationship between the features and target\n",
    "    \n",
    "    2. Little or no Multicollinearity between the features\n",
    "    \n",
    "    3. Homoscedasticity Assumption\n",
    "    \n",
    "    4. Normal distribution of error terms\n",
    "    \n",
    "    5. Little or No autocorrelation in the residuals\n",
    "    \n",
    "- Todas estas premissas do tutorial foram citadas entre os 10 pressupostos do artigo mencionado anteriormente."
   ]
  },
  {
   "cell_type": "markdown",
   "metadata": {},
   "source": [
    "## 4.1. Análise exploratória básica da básica "
   ]
  },
  {
   "cell_type": "code",
   "execution_count": 3,
   "metadata": {},
   "outputs": [
    {
     "data": {
      "text/html": [
       "<div>\n",
       "<style scoped>\n",
       "    .dataframe tbody tr th:only-of-type {\n",
       "        vertical-align: middle;\n",
       "    }\n",
       "\n",
       "    .dataframe tbody tr th {\n",
       "        vertical-align: top;\n",
       "    }\n",
       "\n",
       "    .dataframe thead th {\n",
       "        text-align: right;\n",
       "    }\n",
       "</style>\n",
       "<table border=\"1\" class=\"dataframe\">\n",
       "  <thead>\n",
       "    <tr style=\"text-align: right;\">\n",
       "      <th></th>\n",
       "      <th>MaxTemp</th>\n",
       "      <th>MinTemp</th>\n",
       "    </tr>\n",
       "  </thead>\n",
       "  <tbody>\n",
       "    <tr>\n",
       "      <th>0</th>\n",
       "      <td>25.555556</td>\n",
       "      <td>22.222222</td>\n",
       "    </tr>\n",
       "    <tr>\n",
       "      <th>1</th>\n",
       "      <td>28.888889</td>\n",
       "      <td>21.666667</td>\n",
       "    </tr>\n",
       "    <tr>\n",
       "      <th>2</th>\n",
       "      <td>26.111111</td>\n",
       "      <td>22.222222</td>\n",
       "    </tr>\n",
       "    <tr>\n",
       "      <th>3</th>\n",
       "      <td>26.666667</td>\n",
       "      <td>22.222222</td>\n",
       "    </tr>\n",
       "    <tr>\n",
       "      <th>4</th>\n",
       "      <td>26.666667</td>\n",
       "      <td>21.666667</td>\n",
       "    </tr>\n",
       "  </tbody>\n",
       "</table>\n",
       "</div>"
      ],
      "text/plain": [
       "     MaxTemp    MinTemp\n",
       "0  25.555556  22.222222\n",
       "1  28.888889  21.666667\n",
       "2  26.111111  22.222222\n",
       "3  26.666667  22.222222\n",
       "4  26.666667  21.666667"
      ]
     },
     "execution_count": 3,
     "metadata": {},
     "output_type": "execute_result"
    }
   ],
   "source": [
    "dados = pd.read_csv(filepath_or_buffer = \"data/Summary of Weather.csv\", low_memory = False)\n",
    "\n",
    "dados = dados[[\"MaxTemp\", \"MinTemp\"]]\n",
    "\n",
    "dados.head()"
   ]
  },
  {
   "cell_type": "code",
   "execution_count": 4,
   "metadata": {},
   "outputs": [
    {
     "data": {
      "text/html": [
       "<div>\n",
       "<style scoped>\n",
       "    .dataframe tbody tr th:only-of-type {\n",
       "        vertical-align: middle;\n",
       "    }\n",
       "\n",
       "    .dataframe tbody tr th {\n",
       "        vertical-align: top;\n",
       "    }\n",
       "\n",
       "    .dataframe thead th {\n",
       "        text-align: right;\n",
       "    }\n",
       "</style>\n",
       "<table border=\"1\" class=\"dataframe\">\n",
       "  <thead>\n",
       "    <tr style=\"text-align: right;\">\n",
       "      <th></th>\n",
       "      <th>count</th>\n",
       "      <th>mean</th>\n",
       "      <th>std</th>\n",
       "      <th>min</th>\n",
       "      <th>25%</th>\n",
       "      <th>50%</th>\n",
       "      <th>75%</th>\n",
       "      <th>max</th>\n",
       "    </tr>\n",
       "  </thead>\n",
       "  <tbody>\n",
       "    <tr>\n",
       "      <th>MaxTemp</th>\n",
       "      <td>119040.0</td>\n",
       "      <td>27.05</td>\n",
       "      <td>8.72</td>\n",
       "      <td>-33.33</td>\n",
       "      <td>25.56</td>\n",
       "      <td>29.44</td>\n",
       "      <td>31.67</td>\n",
       "      <td>50.00</td>\n",
       "    </tr>\n",
       "    <tr>\n",
       "      <th>MinTemp</th>\n",
       "      <td>119040.0</td>\n",
       "      <td>17.79</td>\n",
       "      <td>8.33</td>\n",
       "      <td>-38.33</td>\n",
       "      <td>15.00</td>\n",
       "      <td>21.11</td>\n",
       "      <td>23.33</td>\n",
       "      <td>34.44</td>\n",
       "    </tr>\n",
       "  </tbody>\n",
       "</table>\n",
       "</div>"
      ],
      "text/plain": [
       "            count   mean   std    min    25%    50%    75%    max\n",
       "MaxTemp  119040.0  27.05  8.72 -33.33  25.56  29.44  31.67  50.00\n",
       "MinTemp  119040.0  17.79  8.33 -38.33  15.00  21.11  23.33  34.44"
      ]
     },
     "execution_count": 4,
     "metadata": {},
     "output_type": "execute_result"
    }
   ],
   "source": [
    "dados.describe().T.round(2)"
   ]
  },
  {
   "cell_type": "markdown",
   "metadata": {},
   "source": [
    "## 4.2. Verificando as premissas da Regressão Linear\n",
    "\n",
    "### 4.2.1. Relação linear entre X e Y\n",
    "\n",
    "- Como mencionado acima, dado que temos somente uma variável explicativa, podemos utilizar o scatterplot ou a correlação de Pearson para verificar. Vamos utilizar ambos;\n",
    "\n",
    "- Pela Figura abaixo, podemos notar que a relação entre ambas as variáveis é diretamente proporcional, isto é, conforme a MaxTemp aumenta no eixo Y a MinTemp também aumenta no eixo X, indicando uma possível relação linear forte;"
   ]
  },
  {
   "cell_type": "code",
   "execution_count": 5,
   "metadata": {},
   "outputs": [
    {
     "name": "stderr",
     "output_type": "stream",
     "text": [
      "*c* argument looks like a single numeric RGB or RGBA sequence, which should be avoided as value-mapping will have precedence in case its length matches with *x* & *y*.  Please use the *color* keyword-argument or provide a 2-D array with a single row if you intend to specify the same RGB or RGBA value for all points.\n"
     ]
    },
    {
     "data": {
      "image/png": "[encoded data removed]",
      "text/plain": [
       "<Figure size 720x432 with 1 Axes>"
      ]
     },
     "metadata": {},
     "output_type": "display_data"
    }
   ],
   "source": [
    "dados.plot(x = \"MinTemp\", y = \"MaxTemp\", kind = \"scatter\", figsize = (10, 6))\n",
    "\n",
    "plt.show()"
   ]
  },
  {
   "cell_type": "markdown",
   "metadata": {},
   "source": [
    "- Esta relação linear é confirmada por meio do teste formal de Pearson, indicando que a relação entre elas é forte e positiva."
   ]
  },
  {
   "cell_type": "code",
   "execution_count": 6,
   "metadata": {},
   "outputs": [
    {
     "data": {
      "text/html": [
       "<div>\n",
       "<style scoped>\n",
       "    .dataframe tbody tr th:only-of-type {\n",
       "        vertical-align: middle;\n",
       "    }\n",
       "\n",
       "    .dataframe tbody tr th {\n",
       "        vertical-align: top;\n",
       "    }\n",
       "\n",
       "    .dataframe thead th {\n",
       "        text-align: right;\n",
       "    }\n",
       "</style>\n",
       "<table border=\"1\" class=\"dataframe\">\n",
       "  <thead>\n",
       "    <tr style=\"text-align: right;\">\n",
       "      <th></th>\n",
       "      <th>MaxTemp</th>\n",
       "      <th>MinTemp</th>\n",
       "    </tr>\n",
       "  </thead>\n",
       "  <tbody>\n",
       "    <tr>\n",
       "      <th>MaxTemp</th>\n",
       "      <td>1.000000</td>\n",
       "      <td>0.878384</td>\n",
       "    </tr>\n",
       "    <tr>\n",
       "      <th>MinTemp</th>\n",
       "      <td>0.878384</td>\n",
       "      <td>1.000000</td>\n",
       "    </tr>\n",
       "  </tbody>\n",
       "</table>\n",
       "</div>"
      ],
      "text/plain": [
       "          MaxTemp   MinTemp\n",
       "MaxTemp  1.000000  0.878384\n",
       "MinTemp  0.878384  1.000000"
      ]
     },
     "execution_count": 6,
     "metadata": {},
     "output_type": "execute_result"
    }
   ],
   "source": [
    "dados.corr()"
   ]
  },
  {
   "cell_type": "markdown",
   "metadata": {},
   "source": [
    "### 4.2.2. Fraca ou nenhuma multicolineariedade entre as variáveis explicativas\n",
    "\n",
    "- Como temos somente uma variável explicativa, essa premissa simplesmente é válida;\n",
    "\n",
    "- E não inventem de fazer correlação com ela mesmo só porque o valor resultante será 1."
   ]
  },
  {
   "cell_type": "markdown",
   "metadata": {},
   "source": [
    "### 4.2.3. Homocedasticidade\n",
    "\n",
    "- Os resíduos não possuem uma distribuição aleatória na Figura abaixo;\n",
    "\n",
    "- Podemos então dizer que nosso modelo possui homocedasticidade, isto é, a variância do erro não é constante."
   ]
  },
  {
   "cell_type": "code",
   "execution_count": 7,
   "metadata": {},
   "outputs": [
    {
     "name": "stderr",
     "output_type": "stream",
     "text": [
      "findfont: Font family ['sans-serif'] not found. Falling back to DejaVu Sans.\n"
     ]
    },
    {
     "data": {
      "image/png": "[encoded data removed]",
      "text/plain": [
       "<Figure size 576x396 with 2 Axes>"
      ]
     },
     "metadata": {},
     "output_type": "display_data"
    }
   ],
   "source": [
    "x = dados[\"MinTemp\"].values.reshape(-1, 1)\n",
    "y = dados[\"MaxTemp\"].values.reshape(-1, 1)\n",
    "\n",
    "x_treino, x_teste, y_treino, y_teste = train_test_split(x, y, test_size = 0.2, random_state = 0)\n",
    "\n",
    "reg_lin = LinearRegression()\n",
    "\n",
    "visualizer = ResidualsPlot(model = reg_lin)\n",
    "visualizer.fit(x_treino, y_treino)\n",
    "visualizer.poof()\n",
    "\n",
    "plt.show()"
   ]
  },
  {
   "cell_type": "markdown",
   "metadata": {},
   "source": [
    "### 4.2.4. Os resíduos possuem distribuição normal\n",
    "\n",
    "- O método da Figura abaixo com o qqplot é um dos métodos de indicação de normalidade ou não nos dados, nesse caso, dos resíduos;\n",
    "\n",
    "- Como os pontos não se encontram juntos a reta, dado que no final ela se distancia totalmente, então não temos um comportamento de distribuição normal para os resíduos;\n",
    "\n",
    "- Podemos confirmar pelo teste de normalidade de Shapiro-Wilk."
   ]
  },
  {
   "cell_type": "code",
   "execution_count": 8,
   "metadata": {},
   "outputs": [
    {
     "data": {
      "image/png": "[encoded data removed]",
      "text/plain": [
       "<Figure size 576x396 with 1 Axes>"
      ]
     },
     "metadata": {},
     "output_type": "display_data"
    }
   ],
   "source": [
    "reg_lin1 = sm.OLS(y_treino, x_treino).fit()\n",
    "\n",
    "residuos = reg_lin1.resid\n",
    "\n",
    "sm.qqplot(residuos, fit = True, line = \"45\")\n",
    "\n",
    "plt.show()"
   ]
  },
  {
   "cell_type": "code",
   "execution_count": 11,
   "metadata": {},
   "outputs": [
    {
     "name": "stdout",
     "output_type": "stream",
     "text": [
      "Sample does not look Gaussian (reject H0)\n"
     ]
    }
   ],
   "source": [
    "# Copiado discaradamente de: https://machinelearningmastery.com/a-gentle-introduction-to-normality-tests-in-python/\n",
    "\n",
    "est, p = stats.shapiro(residuos)\n",
    "\n",
    "alpha = 0.05\n",
    "\n",
    "if p > alpha:\n",
    "    print(\"Sample looks Gaussian (fail to reject H0)\")\n",
    "else:\n",
    "    print(\"Sample does not look Gaussian (reject H0)\")"
   ]
  },
  {
   "cell_type": "markdown",
   "metadata": {},
   "source": [
    "### 4.2.5. Autocorrelação entre os resíduos\n",
    "\n",
    "- Para a estatística de Durbin-Watson temos o valor de, aproximadamente, 1.8052;\n",
    "\n",
    "- Segundo o [tutorial](https://towardsdatascience.com/assumptions-of-linear-regression-algorithm-ed9ea32224e1) quando este valor se aproxima de 2, indica que os resíduos não estão autocorrelacionados."
   ]
  },
  {
   "cell_type": "code",
   "execution_count": 10,
   "metadata": {},
   "outputs": [
    {
     "name": "stdout",
     "output_type": "stream",
     "text": [
      "A estatística de Durbin-Watson é de: 1.8052\n"
     ]
    }
   ],
   "source": [
    "est_dw = round(statsmodels.stats.stattools.durbin_watson(residuos, axis = 0), 4)\n",
    "\n",
    "print(f\"A estatística de Durbin-Watson é de: {est_dw}\")"
   ]
  },
  {
   "cell_type": "markdown",
   "metadata": {},
   "source": [
    "# Próximos passos\n",
    "\n",
    "1. Fazer a previsão para esses valores\n",
    "\n",
    "2. Ir para o segundo tutorial"
   ]
  },
  {
   "cell_type": "markdown",
   "metadata": {
    "colab_type": "text",
    "id": "8cdO1Se6gskg"
   },
   "source": [
    "# Referências\n",
    "\n",
    "1. Bussab e Morettin\n",
    "2. O que Fazer e o que Não Fazer com a Regressão: pressupostos e aplicações do modelo linear de Mínimos Quadrados Ordinários (MQO)\n",
    "3. https://towardsdatascience.com/assumptions-of-linear-regression-algorithm-ed9ea32224e1\n",
    "4. https://towardsdatascience.com/a-beginners-guide-to-linear-regression-in-python-with-scikit-learn-83a8f7ae2b4f\n",
    "5. https://www.ime.usp.br/~fmachado/MAE229/AULA10.pdf\n",
    "6. https://ubibliorum.ubi.pt/bitstream/10400.6/1869/1/Tese%20Sandra%20Rodrigues.pdf\n",
    "7. https://matheusfacure.github.io/2017/02/15/MQO-formula-analitica/\n",
    "8. http://www.dpi.ufv.br/~peternelli/inf162.www.16032004/materiais/CAPITULO9.pdf"
   ]
  }
 ],
 "metadata": {
  "colab": {
   "collapsed_sections": [],
   "name": "Not_RegLinear",
   "provenance": []
  },
  "kernelspec": {
   "display_name": "Python 3",
   "language": "python",
   "name": "python3"
  },
  "language_info": {
   "codemirror_mode": {
    "name": "ipython",
    "version": 3
   },
   "file_extension": ".py",
   "mimetype": "text/x-python",
   "name": "python",
   "nbconvert_exporter": "python",
   "pygments_lexer": "ipython3",
   "version": "3.8.2"
  }
 },
 "nbformat": 4,
 "nbformat_minor": 4
}
