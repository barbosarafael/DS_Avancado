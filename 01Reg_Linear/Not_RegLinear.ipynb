{
  "nbformat": 4,
  "nbformat_minor": 0,
  "metadata": {
    "colab": {
      "name": "Not_RegLinear",
      "provenance": [],
      "collapsed_sections": []
    },
    "kernelspec": {
      "name": "python3",
      "display_name": "Python 3"
    }
  },
  "cells": [
    {
      "cell_type": "markdown",
      "metadata": {
        "id": "LaT13yrKYc16",
        "colab_type": "text"
      },
      "source": [
        "# Regressão Linear - Grupo de DS Avançado\n",
        "\n",
        "\n",
        "<center>\n",
        "<p>\n",
        "Autor: Rafael Barbosa - \n",
        "  <a href=\"https://www.linkedin.com/in/rafael-barbosa0/\" rel=\"nofollow noreferrer\">\n",
        "    <img src=\"https://i.stack.imgur.com/gVE0j.png\" alt=\"linkedin\"> LinkedIn\n",
        "  </a> &nbsp; \n",
        "  <a href=\"https://github.com/barbosarafael\" rel=\"nofollow noreferrer\">\n",
        "    <img src=\"https://i.stack.imgur.com/tskMh.png\" alt=\"github\"> Github\n",
        "  </a>\n",
        "</p>\n",
        "</center>"
      ]
    },
    {
      "cell_type": "markdown",
      "metadata": {
        "id": "bVFLcaFeZG0R",
        "colab_type": "text"
      },
      "source": [
        "<p align=\"center\">\n",
        "  <img alt=\"decision_tree\" src=\"https://pics.me.me/linear-regression-is-not-machine-learning-is-change-my-mind-45626240.png\" alt=\"drawing\" width=\"500\" height=\"400\"/>\n",
        "  <br>\n",
        "    <em> <b> Polêmica de primeira assim ? </b> </em>\n",
        "</p>\n",
        "\n",
        "## 1. Introdução\n",
        "\n",
        "---\n",
        "\n",
        "- A Regressão Linear é um método estatístico, também utilizado em aprendizado de máquina, para fornecer a relação linear entre uma ou mais variáveis X (chamadas de **dependente(s), explicativa(s), feature(s), etc**) com uma outra variável fixa Y (esta chamada de **independente, resposta, target, etc**);\n",
        "\n",
        "- A partir desse momento chamarei as variáveis desse jeito:\n",
        "\n",
        "  - **X**: Explicativa(s)\n",
        "  - **Y**: Resposta\n",
        "\n",
        "- Quando temos somente uma variável X **explicativa**, chamamos de Regressão Linear Simples. Por exemplo:\n",
        "\n",
        "  - **X**: Peso da pessoa; **Y**: Altura da pessoa;\n",
        "  - **X**: Tempo de uso; **Y**: Preço do carro.\n",
        "\n",
        "- Já quando possui duas ou mais variáveis **explicativas**, então chamamos de Regressão Linear Múltipla. Por exemplo:\n",
        "\n",
        "  - **X**: Peso da pessoa, tamanho da cintura e largura do braço; **Y**: Altura da pessoa;\n",
        "  - **X**: Tempo de uso e tamanho do capô, ; **Y**: Preço do carro.\n",
        "\n",
        "- Podemos utilizar a Regressão Linear com duas finalidades:\n",
        "\n",
        "  - Modelagem: Onde queremos verificar o quanto cada variável explicativa impacta na nossa variável resposta, por meio do coeficiente resultante;\n",
        "\n",
        "  - Previsão: Quando queremos prever novos dados a partir do nosso modelo já criado.\n",
        "\n",
        "- Supondo uma variável X explicativa qualquer e outra Y resposta, podemos verificar, empiricamente, a relação linear entre elas por meio de um gráfico de dispersão (scatterplot);\n",
        "\n",
        "- Se quisermos verificar estatisticamente e imparcialmente podemos fazer aplicar uma técnica chamada de correlação linear de Pearson."
      ]
    },
    {
      "cell_type": "markdown",
      "metadata": {
        "id": "41bazIDX1id1",
        "colab_type": "text"
      },
      "source": [
        "# 2. Correlação\n",
        "\n",
        "---\n",
        "\n",
        "- Mede o nível de associação linear entre duas variáveis quantitativas X e Y;\n",
        "\n",
        "- Esta associação pode apresentar as seguintes particularidades:\n",
        "\n",
        "  - Ser **positiva**, isto é, os valores das variáveis X e Y são diretamente proporcionais. Exemplo hipotético, quanto maior o peso **maior** a altura;\n",
        "\n",
        "  - Ser **negativa**, isto é, os valores das variáveis X e Y são inversamente proporcionais. Exemplo hipotético, quanto maior o peso **menor** a altura;\n",
        "\n",
        "  - Não possuir correlação.\n",
        "\n",
        "- Como mencionado acima, a correlação pode ser medida intuitivamente ou \"cientificamente\" correta;\n",
        "\n",
        "## 2.1. Scatterplot (método informal)\n",
        "\n",
        "<p align=\"center\">\n",
        "  <img alt=\"decision_tree\" src=\"https://www.statisticshowto.com/wp-content/uploads/2012/10/pearson-2-small.png\" alt=\"drawing\" width=\"600\" height=\"300\"/>\n",
        "  <br>\n",
        "    <em> <b> Finjam que não existem os números e somente observem o comportamento dos pontos e a direção da seta. Retirado de: </b> https://www.statisticshowto.com/probability-and-statistics/correlation-coefficient-formula/ </em>\n",
        "</p>\n",
        "\n",
        "- Os pontos gerados para a construção do *scatterplot* são gerados a partir de cada observação (linha) que corresponde a um ponto no $ R^2 $ com as coordenadas $ (x_i, y_i), i = 1, 2, ..., n $;\n",
        "\n",
        "- Nele podemos verificar informalmente mas não podemos provar \"cientificamente\" (aquele famoso numerozinho) que a variável X possui uma relação linear com a Y;\n",
        "\n",
        "- Por isso temos o coeficiente de correlação de Pearson.\n",
        "\n",
        "## 2.2. Coeficiente de correlação de Pearson (método formal)\n",
        "\n",
        "<p align=\"center\">\n",
        "  <img alt=\"decision_tree\" src=\"https://3.bp.blogspot.com/-CVoTLNP0_lo/WJnRWLD_sKI/AAAAAAAAAI8/t5OxUzBAyfYHUWpxT4oOP6qvkZXVjBpFACLcB/s320/1j58h9.jpg\" alt=\"drawing\" width=\"400\" height=\"300\"/>\n",
        "  <br>\n",
        "    <em> <b> Memes everywhere. Retirado de: </b> https://adampegler.blogspot.com/2017/02/bonetts-2008-method-for-confidence.html </em>\n",
        "</p>\n",
        "\n",
        "- Calculado a partir da fórmula abaixo:\n",
        "\n",
        "$$ R_{xy} = \\frac{\\sum_{i = 1}^{n}(x_i - \\bar{x})(y_i - \\bar{y})}{\\sqrt{\\sum_{i = 1}^{n}(x_i - \\bar{x})^2} \\times \\sqrt{\\sum_{i = 1}^{n}(y_i - \\bar{y})^2}} $$\n",
        "\n",
        "- Ele é o responsável por soltar o \"numerozinho\" que usaremos para verificar a relação linear entre a variável explicativa X e a resposta Y;\n",
        "\n",
        "- Este coeficiente $ R_{xy} $ varia de -1 a 1 e pode ter algumas das seguintes interpretações:\n",
        "\n",
        "  - Se $ R_{xy} $ = -1, então;\n",
        "  - Se $ R_{xy} $ = 0, então ;\n",
        "  - Se $ R_{xy} $ = 1, então ."
      ]
    },
    {
      "cell_type": "markdown",
      "metadata": {
        "id": "8cdO1Se6gskg",
        "colab_type": "text"
      },
      "source": [
        "# Referências\n",
        "\n",
        "1. Bussab e Morettin\n",
        "2. O que Fazer e o que Não Fazer com a Regressão: pressupostos e aplicações do modelo linear de Mínimos Quadrados Ordinários (MQO)\n",
        "3. https://towardsdatascience.com/assumptions-of-linear-regression-algorithm-ed9ea32224e1\n",
        "4. https://towardsdatascience.com/a-beginners-guide-to-linear-regression-in-python-with-scikit-learn-83a8f7ae2b4f\n",
        "5. https://www.ime.usp.br/~fmachado/MAE229/AULA10.pdf\n",
        "6. https://ubibliorum.ubi.pt/bitstream/10400.6/1869/1/Tese%20Sandra%20Rodrigues.pdf\n",
        "7. https://matheusfacure.github.io/2017/02/15/MQO-formula-analitica/\n",
        "8. http://www.dpi.ufv.br/~peternelli/inf162.www.16032004/materiais/CAPITULO9.pdf"
      ]
    }
  ]
}