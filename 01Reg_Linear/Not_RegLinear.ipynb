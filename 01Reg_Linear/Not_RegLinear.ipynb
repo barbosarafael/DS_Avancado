{
  "nbformat": 4,
  "nbformat_minor": 0,
  "metadata": {
    "colab": {
      "name": "Not_RegLinear",
      "provenance": [],
      "collapsed_sections": []
    },
    "kernelspec": {
      "name": "python3",
      "display_name": "Python 3"
    }
  },
  "cells": [
    {
      "cell_type": "markdown",
      "metadata": {
        "id": "LaT13yrKYc16",
        "colab_type": "text"
      },
      "source": [
        "# Regressão Linear - Grupo de DS Avançado\n",
        "\n",
        "\n",
        "#### Autor: Rafael Barbosa - [LinkedIn](https://www.linkedin.com/in/rafael-barbosa0/) - [Github](https://github.com/barbosarafael)\n",
        "\n"
      ]
    },
    {
      "cell_type": "markdown",
      "metadata": {
        "id": "bVFLcaFeZG0R",
        "colab_type": "text"
      },
      "source": [
        "<p align=\"center\">\n",
        "  <img alt=\"decision_tree\" src=\"https://pics.me.me/linear-regression-is-not-machine-learning-is-change-my-mind-45626240.png\" alt=\"drawing\" width=\"500\" height=\"400\"/>\n",
        "  <br>\n",
        "    <em> <b> Polêmica de primeira assim ? </b> </em>\n",
        "</p>\n",
        "\n",
        "## 1. Introdução\n",
        "\n",
        "---\n",
        "\n",
        "- A Regressão Linear é um método estatístico, também utilizado em aprendizado de máquina, para fornecer a relação linear entre uma ou mais variáveis X (chamadas de **dependente(s), explicativa(s), feature(s), etc**) com uma outra variável fixa Y (esta chamada de **independente, resposta, target, etc**);\n",
        "\n",
        "- A partir desse momento chamarei as variáveis desse jeito:\n",
        "\n",
        "  - **X**: Explicativa(s)\n",
        "  - **Y**: Resposta\n",
        "\n",
        "- Quando temos somente uma variável X **explicativa**, chamamos de Regressão Linear Simples. Por exemplo:\n",
        "\n",
        "  - **X**: Peso da pessoa; **Y**: Altura da pessoa;\n",
        "  - **X**: Tempo de uso; **Y**: Preço do carro.\n",
        "\n",
        "- Já quando possui duas ou mais variáveis **explicativas**, então chamamos de Regressão Linear Múltipla. Por exemplo:\n",
        "\n",
        "  - **X**: Peso da pessoa, tamanho da cintura e largura do braço; **Y**: Altura da pessoa;\n",
        "  - **X**: Tempo de uso e tamanho do capô; **Y**: Preço do carro.\n",
        "\n",
        "- Podemos utilizar a Regressão Linear com duas finalidades:\n",
        "\n",
        "  - Modelagem: Onde queremos verificar o quanto cada variável explicativa impacta na nossa variável resposta, por meio do coeficiente resultante;\n",
        "\n",
        "  - Previsão: Quando queremos prever novos dados a partir do nosso modelo já criado.\n",
        "\n",
        "- Supondo uma variável X explicativa qualquer e outra Y resposta, podemos verificar, empiricamente, a relação linear entre elas por meio de um gráfico de dispersão (scatterplot);\n",
        "\n",
        "- Se quisermos verificar estatisticamente e imparcialmente podemos fazer aplicar uma técnica chamada de correlação linear de Pearson."
      ]
    },
    {
      "cell_type": "markdown",
      "metadata": {
        "id": "41bazIDX1id1",
        "colab_type": "text"
      },
      "source": [
        "# 2. Correlação\n",
        "\n",
        "---\n",
        "\n",
        "- Mede o nível de associação linear entre duas variáveis quantitativas X e Y;\n",
        "\n",
        "- Esta associação pode apresentar as seguintes particularidades:\n",
        "\n",
        "  - Ser **positiva**, isto é, os valores das variáveis X e Y são diretamente proporcionais. Exemplo hipotético, quanto maior o peso **maior** a altura;\n",
        "\n",
        "  - Ser **negativa**, isto é, os valores das variáveis X e Y são inversamente proporcionais. Exemplo hipotético, quanto maior o peso **menor** a altura;\n",
        "\n",
        "  - Não possuir correlação.\n",
        "\n",
        "- Como mencionado acima, a correlação pode ser medida intuitivamente ou \"cientificamente\" correta;\n",
        "\n",
        "## 2.1. Scatterplot (método informal)\n",
        "\n",
        "<p align=\"center\">\n",
        "  <img alt=\"decision_tree\" src=\"https://www.statisticshowto.com/wp-content/uploads/2012/10/pearson-2-small.png\" alt=\"drawing\" width=\"600\" height=\"300\"/>\n",
        "  <br>\n",
        "    <em> <b> Finjam que não existem os números e somente observem o comportamento dos pontos e a direção da seta. Retirado de: </b> https://www.statisticshowto.com/probability-and-statistics/correlation-coefficient-formula/ </em>\n",
        "</p>\n",
        "\n",
        "- Os pontos gerados para a construção do *scatterplot* são gerados a partir de cada observação (linha) que corresponde a um ponto no $ R^2 $ com as coordenadas $ (x_i, y_i), i = 1, 2, ..., n $;\n",
        "\n",
        "- Nele podemos verificar informalmente mas não podemos provar \"cientificamente\" (aquele famoso numerozinho) que a variável X possui uma relação linear com a Y;\n",
        "\n",
        "- Por isso temos o coeficiente de correlação de Pearson.\n",
        "\n",
        "## 2.2. Coeficiente de correlação de Pearson (método formal)\n",
        "\n",
        "<p align=\"center\">\n",
        "  <img alt=\"decision_tree\" src=\"https://3.bp.blogspot.com/-CVoTLNP0_lo/WJnRWLD_sKI/AAAAAAAAAI8/t5OxUzBAyfYHUWpxT4oOP6qvkZXVjBpFACLcB/s320/1j58h9.jpg\" alt=\"drawing\" width=\"400\" height=\"300\"/>\n",
        "  <br>\n",
        "    <em> <b> Memes everywhere. Retirado de: </b> https://adampegler.blogspot.com/2017/02/bonetts-2008-method-for-confidence.html </em>\n",
        "</p>\n",
        "\n",
        "- Calculado a partir da fórmula abaixo:\n",
        "\n",
        "$$ R_{xy} = \\frac{\\sum_{i = 1}^{n}(x_i - \\bar{x})(y_i - \\bar{y})}{\\sqrt{\\sum_{i = 1}^{n}(x_i - \\bar{x})^2} \\sqrt{\\sum_{i = 1}^{n}(y_i - \\bar{y})^2}} $$\n",
        "\n",
        "- Ele é o responsável por soltar o \"numerozinho\" que usaremos para verificar a relação linear entre a variável explicativa X e a resposta Y;\n",
        "\n",
        "- Este coeficiente $ R_{xy} $ varia de -1 a 1 e pode ter algumas das seguintes interpretações:\n",
        "\n",
        "  - Se $ R_{xy} $ = -1, então a relação linear entre as variáveis X e Y é **positiva** e perfeita;\n",
        "  - Se $ R_{xy} $ = 0, então não existe relação linear entre as variáveis X e Y;\n",
        "  - Se $ R_{xy} $ = 1, então a relação linear entre as variáveis X e Y é **negativa** e perfeita.\n",
        "\n",
        "## 2.3. Exemplo no Python\n",
        "\n",
        "- Inicialmente vamos utilizar duas variáveis do dataset iris para verificar como interpretar esta correlação"
      ]
    },
    {
      "cell_type": "markdown",
      "metadata": {
        "id": "BmndnFteb1rB",
        "colab_type": "text"
      },
      "source": [
        "### 2.3.1 Scatterplot\n",
        "\n",
        "- Por meio do scatterplot podemos verificar que há uma tendência decrescete entre a relação da **Sepal Width** com a **Petal Length**, indicando que elas possuem uma correlação linear negativa;\n",
        "\n",
        "- Já entre as variáveis **Petal Length** e **Sepal Length**, temos indicadores de uma relação diretamente proporcional entre elas, dado que a tendência da reta é crescente;\n",
        "\n",
        "- Novamente, essa ideia do scatterplot é justamente ter um indicador de correlação. Não conseguimos comprovar cientificamente a partir dela."
      ]
    },
    {
      "cell_type": "code",
      "metadata": {
        "id": "9bXsn6gYXmB7",
        "colab_type": "code",
        "colab": {
          "base_uri": "https://localhost:8080/",
          "height": 551
        },
        "outputId": "046d6d8f-166e-4c6f-df7c-90d23927f718"
      },
      "source": [
        "import pandas as pd\n",
        "import numpy as np\n",
        "from sklearn.datasets import load_iris\n",
        "import matplotlib.pyplot as plt\n",
        "import seaborn as sns\n",
        "\n",
        "data = load_iris()\n",
        "df = pd.DataFrame(data.data, columns = data.feature_names)\n",
        "\n",
        "f, axes = plt.subplots(1, 2, figsize=(12, 8))\n",
        "\n",
        "sns.regplot(x = df[\"petal length (cm)\"], y = df[\"sepal width (cm)\"], ax = axes[0])\n",
        "sns.regplot(x = df[\"petal length (cm)\"], y = df[\"sepal length (cm)\"], ax = axes[1])\n",
        "\n",
        "plt.show()"
      ],
      "execution_count": null,
      "outputs": [
        {
          "output_type": "stream",
          "text": [
            "/usr/local/lib/python3.6/dist-packages/statsmodels/tools/_testing.py:19: FutureWarning: pandas.util.testing is deprecated. Use the functions in the public API at pandas.testing instead.\n",
            "  import pandas.util.testing as tm\n"
          ],
          "name": "stderr"
        },
        {
          "output_type": "display_data",
          "data": {
            "image/png": "[encoded data removed]",
            "text/plain": [
              "<Figure size 864x576 with 2 Axes>"
            ]
          },
          "metadata": {
            "tags": [],
            "needs_background": "light"
          }
        }
      ]
    },
    {
      "cell_type": "markdown",
      "metadata": {
        "id": "PUD6jZUKj9rA",
        "colab_type": "text"
      },
      "source": [
        "### 2.3.2. Correlação Linear de Pearson\n",
        "\n",
        "- O resultado abaixo nos mostra a matriz de correlação entre as mesmas variáveis do gráfico acima;\n",
        "\n",
        "- Os resultados a serem observados são aqueles que correspondem a nossa primeira variável na linha (ou coluna) e segunda variável na coluna (ou linha).Nela podemos comprovar que:\n",
        "\n",
        "  - A relação linear entre a **Petal Length** e **Sepal Length** é realmente negativa;\n",
        "\n",
        "  - A realação linear entre a **Petal Length** e **Sepal Width** é realmente positiva;\n",
        "\n",
        "- Também podemos observar que a correlação linear entre as variáveis iguais entre si, isto é, **Sepal Length** na linha e **Sepal Length** na coluna, sempre vai ter a correlação perfeita com o valor de 1 para a esta."
      ]
    },
    {
      "cell_type": "code",
      "metadata": {
        "id": "TNyJ1N_akCsM",
        "colab_type": "code",
        "colab": {
          "base_uri": "https://localhost:8080/",
          "height": 142
        },
        "outputId": "efb91d00-50f8-478c-8874-98ec91ba31b7"
      },
      "source": [
        "df[[\"petal length (cm)\", \"sepal width (cm)\", \"sepal length (cm)\"]].corr()"
      ],
      "execution_count": null,
      "outputs": [
        {
          "output_type": "execute_result",
          "data": {
            "text/html": [
              "<div>\n",
              "<style scoped>\n",
              "    .dataframe tbody tr th:only-of-type {\n",
              "        vertical-align: middle;\n",
              "    }\n",
              "\n",
              "    .dataframe tbody tr th {\n",
              "        vertical-align: top;\n",
              "    }\n",
              "\n",
              "    .dataframe thead th {\n",
              "        text-align: right;\n",
              "    }\n",
              "</style>\n",
              "<table border=\"1\" class=\"dataframe\">\n",
              "  <thead>\n",
              "    <tr style=\"text-align: right;\">\n",
              "      <th></th>\n",
              "      <th>petal length (cm)</th>\n",
              "      <th>sepal width (cm)</th>\n",
              "      <th>sepal length (cm)</th>\n",
              "    </tr>\n",
              "  </thead>\n",
              "  <tbody>\n",
              "    <tr>\n",
              "      <th>petal length (cm)</th>\n",
              "      <td>1.000000</td>\n",
              "      <td>-0.42844</td>\n",
              "      <td>0.871754</td>\n",
              "    </tr>\n",
              "    <tr>\n",
              "      <th>sepal width (cm)</th>\n",
              "      <td>-0.428440</td>\n",
              "      <td>1.00000</td>\n",
              "      <td>-0.117570</td>\n",
              "    </tr>\n",
              "    <tr>\n",
              "      <th>sepal length (cm)</th>\n",
              "      <td>0.871754</td>\n",
              "      <td>-0.11757</td>\n",
              "      <td>1.000000</td>\n",
              "    </tr>\n",
              "  </tbody>\n",
              "</table>\n",
              "</div>"
            ],
            "text/plain": [
              "                   petal length (cm)  sepal width (cm)  sepal length (cm)\n",
              "petal length (cm)           1.000000          -0.42844           0.871754\n",
              "sepal width (cm)           -0.428440           1.00000          -0.117570\n",
              "sepal length (cm)           0.871754          -0.11757           1.000000"
            ]
          },
          "metadata": {
            "tags": []
          },
          "execution_count": 2
        }
      ]
    },
    {
      "cell_type": "markdown",
      "metadata": {
        "id": "INVN5BxeUcG8",
        "colab_type": "text"
      },
      "source": [
        "# 3. Regressão\n",
        "\n",
        "- Como mencionado acima, a regressão busca entender a relação entre a(s) variável(is) explicativas X com a resposta Y;\n",
        "\n",
        "- A regressão possui a seguinte forma de cálculo:\n",
        "\n",
        "$$ Y_i = \\beta_0 + \\sum^{n}_{i = 1}\\beta_i X_i + \\epsilon_i, \\quad i = 1, 2, \\dots, n $$\n",
        "\n",
        "- onde:\n",
        "\n",
        "  - $ Y_i $ representa a variável resposta que queremos prever, dada os valores da equação;\n",
        "\n",
        "  - $ \\beta_0 $ representa o coeficiente que devemos estimar que representa o intercepto da reta com o eixo Y do gráfico;\n",
        "\n",
        "  - $ \\beta_i $ se este coeficiente tiver $ i = 1 $, então a regressão é denominada de Simples, já se este for $ i > 1 $, então chamamos de regressão Múltipla. Ele é chamado de coeficiente angular, pois ele quem determina a inclinação da reta e, também, representa o quanto varia a média de Y para um aumento de uma unidade na variável **X**;\n",
        "\n",
        "  - $ X_i $ mesmo esquema com o $ i $ do $ \\beta_i $ sobre a ser Simples ou Múltipla, já que ela também faz parte do somatório. Representam as nossas variáveis explicativas **X** no modelo. Cada variável explicativa **X** terá um coeficiente $ \\beta $ associado a esta;\n",
        "\n",
        "  - $ \\epsilon $ é o erro associado a diferença entre o valor previsto e o observado.\n",
        "\n",
        "- O método de estimação para os coeficientes $ \\hat{\\beta_0} $ e $ \\hat{\\beta_i} $ mais conhecido é o Método dos Mínimos Quadrados. Na qual possui o objetivo de achar os coeficientes para que estes minimizem a Soma do Quadrado dos Erros (SQE). Podemos começar a demonstração do seguinte método:\n",
        "\n",
        "$$ \\epsilon =  Y_i - \\beta_0 + \\sum^{n}_{i = 1}\\beta_i X_i $$\n",
        "\n",
        "\n",
        "- O restante da demonstração você pode verificar no [material de aula da professora Lígia Henriques-Rodrigues](https://www.ime.usp.br/~fmachado/MAE229/AULA10.pdf), no [material do professor Luiz Alexandre Peternelli](http://www.dpi.ufv.br/~peternelli/inf162.www.16032004/materiais/CAPITULO9.pdf) e neste [material do professor Marcone Jamilson](http://www.decom.ufop.br/prof/marcone/Disciplinas/MetodosNumericoseEstatisticos/QuadradosMinimos.pdf).\n"
      ]
    },
    {
      "cell_type": "markdown",
      "metadata": {
        "id": "PkI3usmZwZrF",
        "colab_type": "text"
      },
      "source": [
        "## 3.1. Premissas para o uso\n",
        "\n",
        "- Entretanto, nem tudo é flores. Esse método de estimação nos obriga (geralmente, né) que os nossos dados estejam totalmente corretos e obedeçam as suposições para poder aplicá-la corretamente;\n",
        "\n",
        "- Quando eu menciono corretamente é por que nem sempre todo mundo verifica elas, existem casos e casos;\n",
        "\n",
        "- Segundo este [artigo](https://periodicos.ufpe.br/revistas/politicahoje/article/download/3808/31622), autora menciona que para a regressão com o método de mínimos quadrados (OLS), existem 10 pressupostos que devem ser aceitos para assim podermos usarmos a Regressão."
      ]
    },
    {
      "cell_type": "markdown",
      "metadata": {
        "id": "4YNOThYzwdqq",
        "colab_type": "text"
      },
      "source": [
        "### 3.1.1. Relação entre as variáveis X e Y"
      ]
    },
    {
      "cell_type": "markdown",
      "metadata": {
        "id": "kxdTy6v0wmM7",
        "colab_type": "text"
      },
      "source": [
        "### 3.1.2. Variáveis medidas adequadamente"
      ]
    },
    {
      "cell_type": "markdown",
      "metadata": {
        "id": "mPSkV8urw4Pl",
        "colab_type": "text"
      },
      "source": [
        "### 3.1.3. O erro possui média 0"
      ]
    },
    {
      "cell_type": "markdown",
      "metadata": {
        "id": "fMtZVF7KxCMW",
        "colab_type": "text"
      },
      "source": [
        "### 3.1.4. Homocedasticidade do erro"
      ]
    },
    {
      "cell_type": "markdown",
      "metadata": {
        "id": "f_LKrHNsxCaf",
        "colab_type": "text"
      },
      "source": [
        "### 3.1.5. Ausência de autocorrelação"
      ]
    },
    {
      "cell_type": "markdown",
      "metadata": {
        "id": "SqWR2pimxCqn",
        "colab_type": "text"
      },
      "source": [
        "### 3.1.6. A variável resposta não deve ser correlacionada com o erro"
      ]
    },
    {
      "cell_type": "markdown",
      "metadata": {
        "id": "etx4_bYMxDAX",
        "colab_type": "text"
      },
      "source": [
        "### 3.1.7. Seleção de variáveis úteis ou não"
      ]
    },
    {
      "cell_type": "markdown",
      "metadata": {
        "id": "cB2nDE7TxDKv",
        "colab_type": "text"
      },
      "source": [
        "### 3.1.8. Multicolineariedade"
      ]
    },
    {
      "cell_type": "markdown",
      "metadata": {
        "id": "9tZA4yVwxDVn",
        "colab_type": "text"
      },
      "source": [
        "### 3.1.9. O erro possui distribuição normal"
      ]
    },
    {
      "cell_type": "markdown",
      "metadata": {
        "id": "SAlW1KkCxDg3",
        "colab_type": "text"
      },
      "source": [
        "### 3.1.10. Proporção entre o número de observação e de variáveis"
      ]
    },
    {
      "cell_type": "markdown",
      "metadata": {
        "id": "8cdO1Se6gskg",
        "colab_type": "text"
      },
      "source": [
        "# Referências\n",
        "\n",
        "1. Bussab e Morettin\n",
        "2. O que Fazer e o que Não Fazer com a Regressão: pressupostos e aplicações do modelo linear de Mínimos Quadrados Ordinários (MQO)\n",
        "3. https://towardsdatascience.com/assumptions-of-linear-regression-algorithm-ed9ea32224e1\n",
        "4. https://towardsdatascience.com/a-beginners-guide-to-linear-regression-in-python-with-scikit-learn-83a8f7ae2b4f\n",
        "5. https://www.ime.usp.br/~fmachado/MAE229/AULA10.pdf\n",
        "6. https://ubibliorum.ubi.pt/bitstream/10400.6/1869/1/Tese%20Sandra%20Rodrigues.pdf\n",
        "7. https://matheusfacure.github.io/2017/02/15/MQO-formula-analitica/\n",
        "8. http://www.dpi.ufv.br/~peternelli/inf162.www.16032004/materiais/CAPITULO9.pdf"
      ]
    }
  ]
}